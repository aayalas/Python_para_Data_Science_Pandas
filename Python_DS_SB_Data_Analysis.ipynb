{
  "nbformat": 4,
  "nbformat_minor": 0,
  "metadata": {
    "colab": {
      "provenance": [],
      "authorship_tag": "ABX9TyN4SsnJzxViYH2FtBobYhHG",
      "include_colab_link": true
    },
    "kernelspec": {
      "name": "python3",
      "display_name": "Python 3"
    },
    "language_info": {
      "name": "python"
    }
  },
  "cells": [
    {
      "cell_type": "markdown",
      "metadata": {
        "id": "view-in-github",
        "colab_type": "text"
      },
      "source": [
        "<a href=\"https://colab.research.google.com/github/aayalas/Python_para_Data_Science_Pandas/blob/main/Python_DS_SB_Data_Analysis.ipynb\" target=\"_parent\"><img src=\"https://colab.research.google.com/assets/colab-badge.svg\" alt=\"Open In Colab\"/></a>"
      ]
    },
    {
      "cell_type": "code",
      "execution_count": 128,
      "metadata": {
        "id": "HcbBe1_pl-6K"
      },
      "outputs": [],
      "source": [
        "import pandas as pd"
      ]
    },
    {
      "cell_type": "code",
      "source": [
        "data = pd.read_csv('credit_card.csv')"
      ],
      "metadata": {
        "id": "6JxlXAlDnC1z"
      },
      "execution_count": 129,
      "outputs": []
    },
    {
      "cell_type": "code",
      "source": [
        "data.head()"
      ],
      "metadata": {
        "colab": {
          "base_uri": "https://localhost:8080/",
          "height": 206
        },
        "id": "tWGjsMCNndj0",
        "outputId": "1198dcc8-fffb-44c2-da6a-df6bae7c55b6"
      },
      "execution_count": 130,
      "outputs": [
        {
          "output_type": "execute_result",
          "data": {
            "text/plain": [
              "   LIMIT_BAL CHECKING_ACCOUNT          EDUCATION MARRIAGE  AGE     BILL_AMT  \\\n",
              "0       6022              Yes       2.University  Married   24     934.0122   \n",
              "1      36132              Yes       2.University   Single   26     519.3975   \n",
              "2      27099              Yes       2.University   Single   34    4223.5297   \n",
              "3      15055              Yes       2.University  Married   37   14522.9563   \n",
              "4     150550               No  3.Graduate School   Single   29  124060.1253   \n",
              "\n",
              "      PAY_AMT  DEFAULT  \n",
              "0      0.0000        1  \n",
              "1      0.0000        1  \n",
              "2    457.0698        0  \n",
              "3    602.2000        0  \n",
              "4  16560.5000        0  "
            ],
            "text/html": [
              "\n",
              "  <div id=\"df-36f9e97d-6412-4e75-8b5b-358f6f45b739\">\n",
              "    <div class=\"colab-df-container\">\n",
              "      <div>\n",
              "<style scoped>\n",
              "    .dataframe tbody tr th:only-of-type {\n",
              "        vertical-align: middle;\n",
              "    }\n",
              "\n",
              "    .dataframe tbody tr th {\n",
              "        vertical-align: top;\n",
              "    }\n",
              "\n",
              "    .dataframe thead th {\n",
              "        text-align: right;\n",
              "    }\n",
              "</style>\n",
              "<table border=\"1\" class=\"dataframe\">\n",
              "  <thead>\n",
              "    <tr style=\"text-align: right;\">\n",
              "      <th></th>\n",
              "      <th>LIMIT_BAL</th>\n",
              "      <th>CHECKING_ACCOUNT</th>\n",
              "      <th>EDUCATION</th>\n",
              "      <th>MARRIAGE</th>\n",
              "      <th>AGE</th>\n",
              "      <th>BILL_AMT</th>\n",
              "      <th>PAY_AMT</th>\n",
              "      <th>DEFAULT</th>\n",
              "    </tr>\n",
              "  </thead>\n",
              "  <tbody>\n",
              "    <tr>\n",
              "      <th>0</th>\n",
              "      <td>6022</td>\n",
              "      <td>Yes</td>\n",
              "      <td>2.University</td>\n",
              "      <td>Married</td>\n",
              "      <td>24</td>\n",
              "      <td>934.0122</td>\n",
              "      <td>0.0000</td>\n",
              "      <td>1</td>\n",
              "    </tr>\n",
              "    <tr>\n",
              "      <th>1</th>\n",
              "      <td>36132</td>\n",
              "      <td>Yes</td>\n",
              "      <td>2.University</td>\n",
              "      <td>Single</td>\n",
              "      <td>26</td>\n",
              "      <td>519.3975</td>\n",
              "      <td>0.0000</td>\n",
              "      <td>1</td>\n",
              "    </tr>\n",
              "    <tr>\n",
              "      <th>2</th>\n",
              "      <td>27099</td>\n",
              "      <td>Yes</td>\n",
              "      <td>2.University</td>\n",
              "      <td>Single</td>\n",
              "      <td>34</td>\n",
              "      <td>4223.5297</td>\n",
              "      <td>457.0698</td>\n",
              "      <td>0</td>\n",
              "    </tr>\n",
              "    <tr>\n",
              "      <th>3</th>\n",
              "      <td>15055</td>\n",
              "      <td>Yes</td>\n",
              "      <td>2.University</td>\n",
              "      <td>Married</td>\n",
              "      <td>37</td>\n",
              "      <td>14522.9563</td>\n",
              "      <td>602.2000</td>\n",
              "      <td>0</td>\n",
              "    </tr>\n",
              "    <tr>\n",
              "      <th>4</th>\n",
              "      <td>150550</td>\n",
              "      <td>No</td>\n",
              "      <td>3.Graduate School</td>\n",
              "      <td>Single</td>\n",
              "      <td>29</td>\n",
              "      <td>124060.1253</td>\n",
              "      <td>16560.5000</td>\n",
              "      <td>0</td>\n",
              "    </tr>\n",
              "  </tbody>\n",
              "</table>\n",
              "</div>\n",
              "      <button class=\"colab-df-convert\" onclick=\"convertToInteractive('df-36f9e97d-6412-4e75-8b5b-358f6f45b739')\"\n",
              "              title=\"Convert this dataframe to an interactive table.\"\n",
              "              style=\"display:none;\">\n",
              "        \n",
              "  <svg xmlns=\"http://www.w3.org/2000/svg\" height=\"24px\"viewBox=\"0 0 24 24\"\n",
              "       width=\"24px\">\n",
              "    <path d=\"M0 0h24v24H0V0z\" fill=\"none\"/>\n",
              "    <path d=\"M18.56 5.44l.94 2.06.94-2.06 2.06-.94-2.06-.94-.94-2.06-.94 2.06-2.06.94zm-11 1L8.5 8.5l.94-2.06 2.06-.94-2.06-.94L8.5 2.5l-.94 2.06-2.06.94zm10 10l.94 2.06.94-2.06 2.06-.94-2.06-.94-.94-2.06-.94 2.06-2.06.94z\"/><path d=\"M17.41 7.96l-1.37-1.37c-.4-.4-.92-.59-1.43-.59-.52 0-1.04.2-1.43.59L10.3 9.45l-7.72 7.72c-.78.78-.78 2.05 0 2.83L4 21.41c.39.39.9.59 1.41.59.51 0 1.02-.2 1.41-.59l7.78-7.78 2.81-2.81c.8-.78.8-2.07 0-2.86zM5.41 20L4 18.59l7.72-7.72 1.47 1.35L5.41 20z\"/>\n",
              "  </svg>\n",
              "      </button>\n",
              "      \n",
              "  <style>\n",
              "    .colab-df-container {\n",
              "      display:flex;\n",
              "      flex-wrap:wrap;\n",
              "      gap: 12px;\n",
              "    }\n",
              "\n",
              "    .colab-df-convert {\n",
              "      background-color: #E8F0FE;\n",
              "      border: none;\n",
              "      border-radius: 50%;\n",
              "      cursor: pointer;\n",
              "      display: none;\n",
              "      fill: #1967D2;\n",
              "      height: 32px;\n",
              "      padding: 0 0 0 0;\n",
              "      width: 32px;\n",
              "    }\n",
              "\n",
              "    .colab-df-convert:hover {\n",
              "      background-color: #E2EBFA;\n",
              "      box-shadow: 0px 1px 2px rgba(60, 64, 67, 0.3), 0px 1px 3px 1px rgba(60, 64, 67, 0.15);\n",
              "      fill: #174EA6;\n",
              "    }\n",
              "\n",
              "    [theme=dark] .colab-df-convert {\n",
              "      background-color: #3B4455;\n",
              "      fill: #D2E3FC;\n",
              "    }\n",
              "\n",
              "    [theme=dark] .colab-df-convert:hover {\n",
              "      background-color: #434B5C;\n",
              "      box-shadow: 0px 1px 3px 1px rgba(0, 0, 0, 0.15);\n",
              "      filter: drop-shadow(0px 1px 2px rgba(0, 0, 0, 0.3));\n",
              "      fill: #FFFFFF;\n",
              "    }\n",
              "  </style>\n",
              "\n",
              "      <script>\n",
              "        const buttonEl =\n",
              "          document.querySelector('#df-36f9e97d-6412-4e75-8b5b-358f6f45b739 button.colab-df-convert');\n",
              "        buttonEl.style.display =\n",
              "          google.colab.kernel.accessAllowed ? 'block' : 'none';\n",
              "\n",
              "        async function convertToInteractive(key) {\n",
              "          const element = document.querySelector('#df-36f9e97d-6412-4e75-8b5b-358f6f45b739');\n",
              "          const dataTable =\n",
              "            await google.colab.kernel.invokeFunction('convertToInteractive',\n",
              "                                                     [key], {});\n",
              "          if (!dataTable) return;\n",
              "\n",
              "          const docLinkHtml = 'Like what you see? Visit the ' +\n",
              "            '<a target=\"_blank\" href=https://colab.research.google.com/notebooks/data_table.ipynb>data table notebook</a>'\n",
              "            + ' to learn more about interactive tables.';\n",
              "          element.innerHTML = '';\n",
              "          dataTable['output_type'] = 'display_data';\n",
              "          await google.colab.output.renderOutput(dataTable, element);\n",
              "          const docLink = document.createElement('div');\n",
              "          docLink.innerHTML = docLinkHtml;\n",
              "          element.appendChild(docLink);\n",
              "        }\n",
              "      </script>\n",
              "    </div>\n",
              "  </div>\n",
              "  "
            ]
          },
          "metadata": {},
          "execution_count": 130
        }
      ]
    },
    {
      "cell_type": "code",
      "source": [
        "data.info()"
      ],
      "metadata": {
        "colab": {
          "base_uri": "https://localhost:8080/"
        },
        "id": "l8APLavdn1LX",
        "outputId": "0a48421f-f332-4ce3-903a-96bf05c93742"
      },
      "execution_count": 131,
      "outputs": [
        {
          "output_type": "stream",
          "name": "stdout",
          "text": [
            "<class 'pandas.core.frame.DataFrame'>\n",
            "RangeIndex: 1500 entries, 0 to 1499\n",
            "Data columns (total 8 columns):\n",
            " #   Column            Non-Null Count  Dtype  \n",
            "---  ------            --------------  -----  \n",
            " 0   LIMIT_BAL         1500 non-null   int64  \n",
            " 1   CHECKING_ACCOUNT  1500 non-null   object \n",
            " 2   EDUCATION         1500 non-null   object \n",
            " 3   MARRIAGE          1500 non-null   object \n",
            " 4   AGE               1500 non-null   int64  \n",
            " 5   BILL_AMT          1500 non-null   float64\n",
            " 6   PAY_AMT           1500 non-null   float64\n",
            " 7   DEFAULT           1500 non-null   int64  \n",
            "dtypes: float64(2), int64(3), object(3)\n",
            "memory usage: 93.9+ KB\n"
          ]
        }
      ]
    },
    {
      "cell_type": "code",
      "source": [
        "# Traduciendo variables"
      ],
      "metadata": {
        "id": "lTz6UJcRoI1D"
      },
      "execution_count": 132,
      "outputs": []
    },
    {
      "cell_type": "code",
      "source": [
        "data.columns"
      ],
      "metadata": {
        "colab": {
          "base_uri": "https://localhost:8080/"
        },
        "id": "M2zI2Y4dpPh8",
        "outputId": "17ddd302-8128-4f4b-ddf6-228c9cf4743d"
      },
      "execution_count": 133,
      "outputs": [
        {
          "output_type": "execute_result",
          "data": {
            "text/plain": [
              "Index(['LIMIT_BAL', 'CHECKING_ACCOUNT', 'EDUCATION', 'MARRIAGE', 'AGE',\n",
              "       'BILL_AMT', 'PAY_AMT', 'DEFAULT'],\n",
              "      dtype='object')"
            ]
          },
          "metadata": {},
          "execution_count": 133
        }
      ]
    },
    {
      "cell_type": "code",
      "source": [
        "dic_columnas = {\n",
        "  'LIMIT_BAL' : 'Limite',\n",
        "  'CHECKING_ACCOUNT' : 'Cuenta_corriente', \n",
        "  'EDUCATION' : 'Escolaridad', \n",
        "  'MARRIAGE' : 'Estado_civil', \n",
        "  'AGE' : 'Edad',\n",
        "  'BILL_AMT' : 'Factura', \n",
        "  'PAY_AMT' : 'Pago', \n",
        "  'DEFAULT' : 'Moroso'\n",
        "}"
      ],
      "metadata": {
        "id": "zdEp4ta_pTeL"
      },
      "execution_count": 134,
      "outputs": []
    },
    {
      "cell_type": "code",
      "source": [
        "tarjetas = data.rename(columns = dic_columnas)\n",
        "tarjetas.head()"
      ],
      "metadata": {
        "colab": {
          "base_uri": "https://localhost:8080/",
          "height": 206
        },
        "id": "WcgmwGEAqsdC",
        "outputId": "3a90590a-5a5c-47f6-bb23-7c273a923548"
      },
      "execution_count": 135,
      "outputs": [
        {
          "output_type": "execute_result",
          "data": {
            "text/plain": [
              "   Limite Cuenta_corriente        Escolaridad Estado_civil  Edad      Factura  \\\n",
              "0    6022              Yes       2.University      Married    24     934.0122   \n",
              "1   36132              Yes       2.University       Single    26     519.3975   \n",
              "2   27099              Yes       2.University       Single    34    4223.5297   \n",
              "3   15055              Yes       2.University      Married    37   14522.9563   \n",
              "4  150550               No  3.Graduate School       Single    29  124060.1253   \n",
              "\n",
              "         Pago  Moroso  \n",
              "0      0.0000       1  \n",
              "1      0.0000       1  \n",
              "2    457.0698       0  \n",
              "3    602.2000       0  \n",
              "4  16560.5000       0  "
            ],
            "text/html": [
              "\n",
              "  <div id=\"df-7aff886c-97f1-4801-9029-4b3e46923f60\">\n",
              "    <div class=\"colab-df-container\">\n",
              "      <div>\n",
              "<style scoped>\n",
              "    .dataframe tbody tr th:only-of-type {\n",
              "        vertical-align: middle;\n",
              "    }\n",
              "\n",
              "    .dataframe tbody tr th {\n",
              "        vertical-align: top;\n",
              "    }\n",
              "\n",
              "    .dataframe thead th {\n",
              "        text-align: right;\n",
              "    }\n",
              "</style>\n",
              "<table border=\"1\" class=\"dataframe\">\n",
              "  <thead>\n",
              "    <tr style=\"text-align: right;\">\n",
              "      <th></th>\n",
              "      <th>Limite</th>\n",
              "      <th>Cuenta_corriente</th>\n",
              "      <th>Escolaridad</th>\n",
              "      <th>Estado_civil</th>\n",
              "      <th>Edad</th>\n",
              "      <th>Factura</th>\n",
              "      <th>Pago</th>\n",
              "      <th>Moroso</th>\n",
              "    </tr>\n",
              "  </thead>\n",
              "  <tbody>\n",
              "    <tr>\n",
              "      <th>0</th>\n",
              "      <td>6022</td>\n",
              "      <td>Yes</td>\n",
              "      <td>2.University</td>\n",
              "      <td>Married</td>\n",
              "      <td>24</td>\n",
              "      <td>934.0122</td>\n",
              "      <td>0.0000</td>\n",
              "      <td>1</td>\n",
              "    </tr>\n",
              "    <tr>\n",
              "      <th>1</th>\n",
              "      <td>36132</td>\n",
              "      <td>Yes</td>\n",
              "      <td>2.University</td>\n",
              "      <td>Single</td>\n",
              "      <td>26</td>\n",
              "      <td>519.3975</td>\n",
              "      <td>0.0000</td>\n",
              "      <td>1</td>\n",
              "    </tr>\n",
              "    <tr>\n",
              "      <th>2</th>\n",
              "      <td>27099</td>\n",
              "      <td>Yes</td>\n",
              "      <td>2.University</td>\n",
              "      <td>Single</td>\n",
              "      <td>34</td>\n",
              "      <td>4223.5297</td>\n",
              "      <td>457.0698</td>\n",
              "      <td>0</td>\n",
              "    </tr>\n",
              "    <tr>\n",
              "      <th>3</th>\n",
              "      <td>15055</td>\n",
              "      <td>Yes</td>\n",
              "      <td>2.University</td>\n",
              "      <td>Married</td>\n",
              "      <td>37</td>\n",
              "      <td>14522.9563</td>\n",
              "      <td>602.2000</td>\n",
              "      <td>0</td>\n",
              "    </tr>\n",
              "    <tr>\n",
              "      <th>4</th>\n",
              "      <td>150550</td>\n",
              "      <td>No</td>\n",
              "      <td>3.Graduate School</td>\n",
              "      <td>Single</td>\n",
              "      <td>29</td>\n",
              "      <td>124060.1253</td>\n",
              "      <td>16560.5000</td>\n",
              "      <td>0</td>\n",
              "    </tr>\n",
              "  </tbody>\n",
              "</table>\n",
              "</div>\n",
              "      <button class=\"colab-df-convert\" onclick=\"convertToInteractive('df-7aff886c-97f1-4801-9029-4b3e46923f60')\"\n",
              "              title=\"Convert this dataframe to an interactive table.\"\n",
              "              style=\"display:none;\">\n",
              "        \n",
              "  <svg xmlns=\"http://www.w3.org/2000/svg\" height=\"24px\"viewBox=\"0 0 24 24\"\n",
              "       width=\"24px\">\n",
              "    <path d=\"M0 0h24v24H0V0z\" fill=\"none\"/>\n",
              "    <path d=\"M18.56 5.44l.94 2.06.94-2.06 2.06-.94-2.06-.94-.94-2.06-.94 2.06-2.06.94zm-11 1L8.5 8.5l.94-2.06 2.06-.94-2.06-.94L8.5 2.5l-.94 2.06-2.06.94zm10 10l.94 2.06.94-2.06 2.06-.94-2.06-.94-.94-2.06-.94 2.06-2.06.94z\"/><path d=\"M17.41 7.96l-1.37-1.37c-.4-.4-.92-.59-1.43-.59-.52 0-1.04.2-1.43.59L10.3 9.45l-7.72 7.72c-.78.78-.78 2.05 0 2.83L4 21.41c.39.39.9.59 1.41.59.51 0 1.02-.2 1.41-.59l7.78-7.78 2.81-2.81c.8-.78.8-2.07 0-2.86zM5.41 20L4 18.59l7.72-7.72 1.47 1.35L5.41 20z\"/>\n",
              "  </svg>\n",
              "      </button>\n",
              "      \n",
              "  <style>\n",
              "    .colab-df-container {\n",
              "      display:flex;\n",
              "      flex-wrap:wrap;\n",
              "      gap: 12px;\n",
              "    }\n",
              "\n",
              "    .colab-df-convert {\n",
              "      background-color: #E8F0FE;\n",
              "      border: none;\n",
              "      border-radius: 50%;\n",
              "      cursor: pointer;\n",
              "      display: none;\n",
              "      fill: #1967D2;\n",
              "      height: 32px;\n",
              "      padding: 0 0 0 0;\n",
              "      width: 32px;\n",
              "    }\n",
              "\n",
              "    .colab-df-convert:hover {\n",
              "      background-color: #E2EBFA;\n",
              "      box-shadow: 0px 1px 2px rgba(60, 64, 67, 0.3), 0px 1px 3px 1px rgba(60, 64, 67, 0.15);\n",
              "      fill: #174EA6;\n",
              "    }\n",
              "\n",
              "    [theme=dark] .colab-df-convert {\n",
              "      background-color: #3B4455;\n",
              "      fill: #D2E3FC;\n",
              "    }\n",
              "\n",
              "    [theme=dark] .colab-df-convert:hover {\n",
              "      background-color: #434B5C;\n",
              "      box-shadow: 0px 1px 3px 1px rgba(0, 0, 0, 0.15);\n",
              "      filter: drop-shadow(0px 1px 2px rgba(0, 0, 0, 0.3));\n",
              "      fill: #FFFFFF;\n",
              "    }\n",
              "  </style>\n",
              "\n",
              "      <script>\n",
              "        const buttonEl =\n",
              "          document.querySelector('#df-7aff886c-97f1-4801-9029-4b3e46923f60 button.colab-df-convert');\n",
              "        buttonEl.style.display =\n",
              "          google.colab.kernel.accessAllowed ? 'block' : 'none';\n",
              "\n",
              "        async function convertToInteractive(key) {\n",
              "          const element = document.querySelector('#df-7aff886c-97f1-4801-9029-4b3e46923f60');\n",
              "          const dataTable =\n",
              "            await google.colab.kernel.invokeFunction('convertToInteractive',\n",
              "                                                     [key], {});\n",
              "          if (!dataTable) return;\n",
              "\n",
              "          const docLinkHtml = 'Like what you see? Visit the ' +\n",
              "            '<a target=\"_blank\" href=https://colab.research.google.com/notebooks/data_table.ipynb>data table notebook</a>'\n",
              "            + ' to learn more about interactive tables.';\n",
              "          element.innerHTML = '';\n",
              "          dataTable['output_type'] = 'display_data';\n",
              "          await google.colab.output.renderOutput(dataTable, element);\n",
              "          const docLink = document.createElement('div');\n",
              "          docLink.innerHTML = docLinkHtml;\n",
              "          element.appendChild(docLink);\n",
              "        }\n",
              "      </script>\n",
              "    </div>\n",
              "  </div>\n",
              "  "
            ]
          },
          "metadata": {},
          "execution_count": 135
        }
      ]
    },
    {
      "cell_type": "code",
      "source": [
        "tarjetas.Cuenta_corriente.unique()"
      ],
      "metadata": {
        "colab": {
          "base_uri": "https://localhost:8080/"
        },
        "id": "A4CaUZXJrMos",
        "outputId": "c0a65084-d019-491b-c92f-dd2cf2e0061b"
      },
      "execution_count": 136,
      "outputs": [
        {
          "output_type": "execute_result",
          "data": {
            "text/plain": [
              "array(['Yes', 'No'], dtype=object)"
            ]
          },
          "metadata": {},
          "execution_count": 136
        }
      ]
    },
    {
      "cell_type": "code",
      "source": [
        "dic_cuenta = {\n",
        "    'Yes' : 'Si',\n",
        "    'No' : 'No'\n",
        "}"
      ],
      "metadata": {
        "id": "YWRzPaJ6rb2W"
      },
      "execution_count": 137,
      "outputs": []
    },
    {
      "cell_type": "code",
      "source": [
        "tarjetas.Cuenta_corriente.map(dic_cuenta)"
      ],
      "metadata": {
        "colab": {
          "base_uri": "https://localhost:8080/"
        },
        "id": "2A5EqZuir2wl",
        "outputId": "47655112-8bd0-4ba0-8705-89007d9766a3"
      },
      "execution_count": 138,
      "outputs": [
        {
          "output_type": "execute_result",
          "data": {
            "text/plain": [
              "0       Si\n",
              "1       Si\n",
              "2       Si\n",
              "3       Si\n",
              "4       No\n",
              "        ..\n",
              "1495    Si\n",
              "1496    No\n",
              "1497    No\n",
              "1498    No\n",
              "1499    No\n",
              "Name: Cuenta_corriente, Length: 1500, dtype: object"
            ]
          },
          "metadata": {},
          "execution_count": 138
        }
      ]
    },
    {
      "cell_type": "code",
      "source": [
        "tarjetas.head()"
      ],
      "metadata": {
        "colab": {
          "base_uri": "https://localhost:8080/",
          "height": 206
        },
        "id": "FjbTFq03sHAX",
        "outputId": "5817ad40-ced5-47fc-fb5e-17dadaf83237"
      },
      "execution_count": 139,
      "outputs": [
        {
          "output_type": "execute_result",
          "data": {
            "text/plain": [
              "   Limite Cuenta_corriente        Escolaridad Estado_civil  Edad      Factura  \\\n",
              "0    6022              Yes       2.University      Married    24     934.0122   \n",
              "1   36132              Yes       2.University       Single    26     519.3975   \n",
              "2   27099              Yes       2.University       Single    34    4223.5297   \n",
              "3   15055              Yes       2.University      Married    37   14522.9563   \n",
              "4  150550               No  3.Graduate School       Single    29  124060.1253   \n",
              "\n",
              "         Pago  Moroso  \n",
              "0      0.0000       1  \n",
              "1      0.0000       1  \n",
              "2    457.0698       0  \n",
              "3    602.2000       0  \n",
              "4  16560.5000       0  "
            ],
            "text/html": [
              "\n",
              "  <div id=\"df-660ef8bb-fa66-4be5-b685-ba1ce3e9b2e9\">\n",
              "    <div class=\"colab-df-container\">\n",
              "      <div>\n",
              "<style scoped>\n",
              "    .dataframe tbody tr th:only-of-type {\n",
              "        vertical-align: middle;\n",
              "    }\n",
              "\n",
              "    .dataframe tbody tr th {\n",
              "        vertical-align: top;\n",
              "    }\n",
              "\n",
              "    .dataframe thead th {\n",
              "        text-align: right;\n",
              "    }\n",
              "</style>\n",
              "<table border=\"1\" class=\"dataframe\">\n",
              "  <thead>\n",
              "    <tr style=\"text-align: right;\">\n",
              "      <th></th>\n",
              "      <th>Limite</th>\n",
              "      <th>Cuenta_corriente</th>\n",
              "      <th>Escolaridad</th>\n",
              "      <th>Estado_civil</th>\n",
              "      <th>Edad</th>\n",
              "      <th>Factura</th>\n",
              "      <th>Pago</th>\n",
              "      <th>Moroso</th>\n",
              "    </tr>\n",
              "  </thead>\n",
              "  <tbody>\n",
              "    <tr>\n",
              "      <th>0</th>\n",
              "      <td>6022</td>\n",
              "      <td>Yes</td>\n",
              "      <td>2.University</td>\n",
              "      <td>Married</td>\n",
              "      <td>24</td>\n",
              "      <td>934.0122</td>\n",
              "      <td>0.0000</td>\n",
              "      <td>1</td>\n",
              "    </tr>\n",
              "    <tr>\n",
              "      <th>1</th>\n",
              "      <td>36132</td>\n",
              "      <td>Yes</td>\n",
              "      <td>2.University</td>\n",
              "      <td>Single</td>\n",
              "      <td>26</td>\n",
              "      <td>519.3975</td>\n",
              "      <td>0.0000</td>\n",
              "      <td>1</td>\n",
              "    </tr>\n",
              "    <tr>\n",
              "      <th>2</th>\n",
              "      <td>27099</td>\n",
              "      <td>Yes</td>\n",
              "      <td>2.University</td>\n",
              "      <td>Single</td>\n",
              "      <td>34</td>\n",
              "      <td>4223.5297</td>\n",
              "      <td>457.0698</td>\n",
              "      <td>0</td>\n",
              "    </tr>\n",
              "    <tr>\n",
              "      <th>3</th>\n",
              "      <td>15055</td>\n",
              "      <td>Yes</td>\n",
              "      <td>2.University</td>\n",
              "      <td>Married</td>\n",
              "      <td>37</td>\n",
              "      <td>14522.9563</td>\n",
              "      <td>602.2000</td>\n",
              "      <td>0</td>\n",
              "    </tr>\n",
              "    <tr>\n",
              "      <th>4</th>\n",
              "      <td>150550</td>\n",
              "      <td>No</td>\n",
              "      <td>3.Graduate School</td>\n",
              "      <td>Single</td>\n",
              "      <td>29</td>\n",
              "      <td>124060.1253</td>\n",
              "      <td>16560.5000</td>\n",
              "      <td>0</td>\n",
              "    </tr>\n",
              "  </tbody>\n",
              "</table>\n",
              "</div>\n",
              "      <button class=\"colab-df-convert\" onclick=\"convertToInteractive('df-660ef8bb-fa66-4be5-b685-ba1ce3e9b2e9')\"\n",
              "              title=\"Convert this dataframe to an interactive table.\"\n",
              "              style=\"display:none;\">\n",
              "        \n",
              "  <svg xmlns=\"http://www.w3.org/2000/svg\" height=\"24px\"viewBox=\"0 0 24 24\"\n",
              "       width=\"24px\">\n",
              "    <path d=\"M0 0h24v24H0V0z\" fill=\"none\"/>\n",
              "    <path d=\"M18.56 5.44l.94 2.06.94-2.06 2.06-.94-2.06-.94-.94-2.06-.94 2.06-2.06.94zm-11 1L8.5 8.5l.94-2.06 2.06-.94-2.06-.94L8.5 2.5l-.94 2.06-2.06.94zm10 10l.94 2.06.94-2.06 2.06-.94-2.06-.94-.94-2.06-.94 2.06-2.06.94z\"/><path d=\"M17.41 7.96l-1.37-1.37c-.4-.4-.92-.59-1.43-.59-.52 0-1.04.2-1.43.59L10.3 9.45l-7.72 7.72c-.78.78-.78 2.05 0 2.83L4 21.41c.39.39.9.59 1.41.59.51 0 1.02-.2 1.41-.59l7.78-7.78 2.81-2.81c.8-.78.8-2.07 0-2.86zM5.41 20L4 18.59l7.72-7.72 1.47 1.35L5.41 20z\"/>\n",
              "  </svg>\n",
              "      </button>\n",
              "      \n",
              "  <style>\n",
              "    .colab-df-container {\n",
              "      display:flex;\n",
              "      flex-wrap:wrap;\n",
              "      gap: 12px;\n",
              "    }\n",
              "\n",
              "    .colab-df-convert {\n",
              "      background-color: #E8F0FE;\n",
              "      border: none;\n",
              "      border-radius: 50%;\n",
              "      cursor: pointer;\n",
              "      display: none;\n",
              "      fill: #1967D2;\n",
              "      height: 32px;\n",
              "      padding: 0 0 0 0;\n",
              "      width: 32px;\n",
              "    }\n",
              "\n",
              "    .colab-df-convert:hover {\n",
              "      background-color: #E2EBFA;\n",
              "      box-shadow: 0px 1px 2px rgba(60, 64, 67, 0.3), 0px 1px 3px 1px rgba(60, 64, 67, 0.15);\n",
              "      fill: #174EA6;\n",
              "    }\n",
              "\n",
              "    [theme=dark] .colab-df-convert {\n",
              "      background-color: #3B4455;\n",
              "      fill: #D2E3FC;\n",
              "    }\n",
              "\n",
              "    [theme=dark] .colab-df-convert:hover {\n",
              "      background-color: #434B5C;\n",
              "      box-shadow: 0px 1px 3px 1px rgba(0, 0, 0, 0.15);\n",
              "      filter: drop-shadow(0px 1px 2px rgba(0, 0, 0, 0.3));\n",
              "      fill: #FFFFFF;\n",
              "    }\n",
              "  </style>\n",
              "\n",
              "      <script>\n",
              "        const buttonEl =\n",
              "          document.querySelector('#df-660ef8bb-fa66-4be5-b685-ba1ce3e9b2e9 button.colab-df-convert');\n",
              "        buttonEl.style.display =\n",
              "          google.colab.kernel.accessAllowed ? 'block' : 'none';\n",
              "\n",
              "        async function convertToInteractive(key) {\n",
              "          const element = document.querySelector('#df-660ef8bb-fa66-4be5-b685-ba1ce3e9b2e9');\n",
              "          const dataTable =\n",
              "            await google.colab.kernel.invokeFunction('convertToInteractive',\n",
              "                                                     [key], {});\n",
              "          if (!dataTable) return;\n",
              "\n",
              "          const docLinkHtml = 'Like what you see? Visit the ' +\n",
              "            '<a target=\"_blank\" href=https://colab.research.google.com/notebooks/data_table.ipynb>data table notebook</a>'\n",
              "            + ' to learn more about interactive tables.';\n",
              "          element.innerHTML = '';\n",
              "          dataTable['output_type'] = 'display_data';\n",
              "          await google.colab.output.renderOutput(dataTable, element);\n",
              "          const docLink = document.createElement('div');\n",
              "          docLink.innerHTML = docLinkHtml;\n",
              "          element.appendChild(docLink);\n",
              "        }\n",
              "      </script>\n",
              "    </div>\n",
              "  </div>\n",
              "  "
            ]
          },
          "metadata": {},
          "execution_count": 139
        }
      ]
    },
    {
      "cell_type": "code",
      "source": [
        "tarjetas.Cuenta_corriente = tarjetas.Cuenta_corriente.map(dic_cuenta)\n",
        "tarjetas.head()"
      ],
      "metadata": {
        "colab": {
          "base_uri": "https://localhost:8080/",
          "height": 206
        },
        "id": "3DQKTFWesXSY",
        "outputId": "ed6cd7ae-673c-4a89-e0df-fd06302a4d68"
      },
      "execution_count": 140,
      "outputs": [
        {
          "output_type": "execute_result",
          "data": {
            "text/plain": [
              "   Limite Cuenta_corriente        Escolaridad Estado_civil  Edad      Factura  \\\n",
              "0    6022               Si       2.University      Married    24     934.0122   \n",
              "1   36132               Si       2.University       Single    26     519.3975   \n",
              "2   27099               Si       2.University       Single    34    4223.5297   \n",
              "3   15055               Si       2.University      Married    37   14522.9563   \n",
              "4  150550               No  3.Graduate School       Single    29  124060.1253   \n",
              "\n",
              "         Pago  Moroso  \n",
              "0      0.0000       1  \n",
              "1      0.0000       1  \n",
              "2    457.0698       0  \n",
              "3    602.2000       0  \n",
              "4  16560.5000       0  "
            ],
            "text/html": [
              "\n",
              "  <div id=\"df-a3a7d2f8-f096-4023-b80c-3cf2a9d5e137\">\n",
              "    <div class=\"colab-df-container\">\n",
              "      <div>\n",
              "<style scoped>\n",
              "    .dataframe tbody tr th:only-of-type {\n",
              "        vertical-align: middle;\n",
              "    }\n",
              "\n",
              "    .dataframe tbody tr th {\n",
              "        vertical-align: top;\n",
              "    }\n",
              "\n",
              "    .dataframe thead th {\n",
              "        text-align: right;\n",
              "    }\n",
              "</style>\n",
              "<table border=\"1\" class=\"dataframe\">\n",
              "  <thead>\n",
              "    <tr style=\"text-align: right;\">\n",
              "      <th></th>\n",
              "      <th>Limite</th>\n",
              "      <th>Cuenta_corriente</th>\n",
              "      <th>Escolaridad</th>\n",
              "      <th>Estado_civil</th>\n",
              "      <th>Edad</th>\n",
              "      <th>Factura</th>\n",
              "      <th>Pago</th>\n",
              "      <th>Moroso</th>\n",
              "    </tr>\n",
              "  </thead>\n",
              "  <tbody>\n",
              "    <tr>\n",
              "      <th>0</th>\n",
              "      <td>6022</td>\n",
              "      <td>Si</td>\n",
              "      <td>2.University</td>\n",
              "      <td>Married</td>\n",
              "      <td>24</td>\n",
              "      <td>934.0122</td>\n",
              "      <td>0.0000</td>\n",
              "      <td>1</td>\n",
              "    </tr>\n",
              "    <tr>\n",
              "      <th>1</th>\n",
              "      <td>36132</td>\n",
              "      <td>Si</td>\n",
              "      <td>2.University</td>\n",
              "      <td>Single</td>\n",
              "      <td>26</td>\n",
              "      <td>519.3975</td>\n",
              "      <td>0.0000</td>\n",
              "      <td>1</td>\n",
              "    </tr>\n",
              "    <tr>\n",
              "      <th>2</th>\n",
              "      <td>27099</td>\n",
              "      <td>Si</td>\n",
              "      <td>2.University</td>\n",
              "      <td>Single</td>\n",
              "      <td>34</td>\n",
              "      <td>4223.5297</td>\n",
              "      <td>457.0698</td>\n",
              "      <td>0</td>\n",
              "    </tr>\n",
              "    <tr>\n",
              "      <th>3</th>\n",
              "      <td>15055</td>\n",
              "      <td>Si</td>\n",
              "      <td>2.University</td>\n",
              "      <td>Married</td>\n",
              "      <td>37</td>\n",
              "      <td>14522.9563</td>\n",
              "      <td>602.2000</td>\n",
              "      <td>0</td>\n",
              "    </tr>\n",
              "    <tr>\n",
              "      <th>4</th>\n",
              "      <td>150550</td>\n",
              "      <td>No</td>\n",
              "      <td>3.Graduate School</td>\n",
              "      <td>Single</td>\n",
              "      <td>29</td>\n",
              "      <td>124060.1253</td>\n",
              "      <td>16560.5000</td>\n",
              "      <td>0</td>\n",
              "    </tr>\n",
              "  </tbody>\n",
              "</table>\n",
              "</div>\n",
              "      <button class=\"colab-df-convert\" onclick=\"convertToInteractive('df-a3a7d2f8-f096-4023-b80c-3cf2a9d5e137')\"\n",
              "              title=\"Convert this dataframe to an interactive table.\"\n",
              "              style=\"display:none;\">\n",
              "        \n",
              "  <svg xmlns=\"http://www.w3.org/2000/svg\" height=\"24px\"viewBox=\"0 0 24 24\"\n",
              "       width=\"24px\">\n",
              "    <path d=\"M0 0h24v24H0V0z\" fill=\"none\"/>\n",
              "    <path d=\"M18.56 5.44l.94 2.06.94-2.06 2.06-.94-2.06-.94-.94-2.06-.94 2.06-2.06.94zm-11 1L8.5 8.5l.94-2.06 2.06-.94-2.06-.94L8.5 2.5l-.94 2.06-2.06.94zm10 10l.94 2.06.94-2.06 2.06-.94-2.06-.94-.94-2.06-.94 2.06-2.06.94z\"/><path d=\"M17.41 7.96l-1.37-1.37c-.4-.4-.92-.59-1.43-.59-.52 0-1.04.2-1.43.59L10.3 9.45l-7.72 7.72c-.78.78-.78 2.05 0 2.83L4 21.41c.39.39.9.59 1.41.59.51 0 1.02-.2 1.41-.59l7.78-7.78 2.81-2.81c.8-.78.8-2.07 0-2.86zM5.41 20L4 18.59l7.72-7.72 1.47 1.35L5.41 20z\"/>\n",
              "  </svg>\n",
              "      </button>\n",
              "      \n",
              "  <style>\n",
              "    .colab-df-container {\n",
              "      display:flex;\n",
              "      flex-wrap:wrap;\n",
              "      gap: 12px;\n",
              "    }\n",
              "\n",
              "    .colab-df-convert {\n",
              "      background-color: #E8F0FE;\n",
              "      border: none;\n",
              "      border-radius: 50%;\n",
              "      cursor: pointer;\n",
              "      display: none;\n",
              "      fill: #1967D2;\n",
              "      height: 32px;\n",
              "      padding: 0 0 0 0;\n",
              "      width: 32px;\n",
              "    }\n",
              "\n",
              "    .colab-df-convert:hover {\n",
              "      background-color: #E2EBFA;\n",
              "      box-shadow: 0px 1px 2px rgba(60, 64, 67, 0.3), 0px 1px 3px 1px rgba(60, 64, 67, 0.15);\n",
              "      fill: #174EA6;\n",
              "    }\n",
              "\n",
              "    [theme=dark] .colab-df-convert {\n",
              "      background-color: #3B4455;\n",
              "      fill: #D2E3FC;\n",
              "    }\n",
              "\n",
              "    [theme=dark] .colab-df-convert:hover {\n",
              "      background-color: #434B5C;\n",
              "      box-shadow: 0px 1px 3px 1px rgba(0, 0, 0, 0.15);\n",
              "      filter: drop-shadow(0px 1px 2px rgba(0, 0, 0, 0.3));\n",
              "      fill: #FFFFFF;\n",
              "    }\n",
              "  </style>\n",
              "\n",
              "      <script>\n",
              "        const buttonEl =\n",
              "          document.querySelector('#df-a3a7d2f8-f096-4023-b80c-3cf2a9d5e137 button.colab-df-convert');\n",
              "        buttonEl.style.display =\n",
              "          google.colab.kernel.accessAllowed ? 'block' : 'none';\n",
              "\n",
              "        async function convertToInteractive(key) {\n",
              "          const element = document.querySelector('#df-a3a7d2f8-f096-4023-b80c-3cf2a9d5e137');\n",
              "          const dataTable =\n",
              "            await google.colab.kernel.invokeFunction('convertToInteractive',\n",
              "                                                     [key], {});\n",
              "          if (!dataTable) return;\n",
              "\n",
              "          const docLinkHtml = 'Like what you see? Visit the ' +\n",
              "            '<a target=\"_blank\" href=https://colab.research.google.com/notebooks/data_table.ipynb>data table notebook</a>'\n",
              "            + ' to learn more about interactive tables.';\n",
              "          element.innerHTML = '';\n",
              "          dataTable['output_type'] = 'display_data';\n",
              "          await google.colab.output.renderOutput(dataTable, element);\n",
              "          const docLink = document.createElement('div');\n",
              "          docLink.innerHTML = docLinkHtml;\n",
              "          element.appendChild(docLink);\n",
              "        }\n",
              "      </script>\n",
              "    </div>\n",
              "  </div>\n",
              "  "
            ]
          },
          "metadata": {},
          "execution_count": 140
        }
      ]
    },
    {
      "cell_type": "code",
      "source": [
        "tarjetas.Escolaridad.unique()"
      ],
      "metadata": {
        "colab": {
          "base_uri": "https://localhost:8080/"
        },
        "id": "Z8HvQu8ks846",
        "outputId": "c770b5df-60c7-4f80-e287-5c94d0beb3bc"
      },
      "execution_count": 141,
      "outputs": [
        {
          "output_type": "execute_result",
          "data": {
            "text/plain": [
              "array(['2.University', '3.Graduate School', '1.High School'], dtype=object)"
            ]
          },
          "metadata": {},
          "execution_count": 141
        }
      ]
    },
    {
      "cell_type": "code",
      "source": [
        "dic_escolaridad = {\n",
        "    '1.High School' : '1.Colegio',\n",
        "    '2.University' : '2.Universidad',\n",
        "    '3.Graduate School' : '3.Posgrado'\n",
        "}"
      ],
      "metadata": {
        "id": "qRf_jgiKtYoT"
      },
      "execution_count": 142,
      "outputs": []
    },
    {
      "cell_type": "code",
      "source": [
        "tarjetas.Escolaridad = tarjetas.Escolaridad.map(dic_escolaridad)\n",
        "tarjetas.head()"
      ],
      "metadata": {
        "colab": {
          "base_uri": "https://localhost:8080/",
          "height": 206
        },
        "id": "tCqdk3oRuOwu",
        "outputId": "9cbb82a9-6a5e-4f6b-ac45-591d0b6a2af0"
      },
      "execution_count": 143,
      "outputs": [
        {
          "output_type": "execute_result",
          "data": {
            "text/plain": [
              "   Limite Cuenta_corriente    Escolaridad Estado_civil  Edad      Factura  \\\n",
              "0    6022               Si  2.Universidad      Married    24     934.0122   \n",
              "1   36132               Si  2.Universidad       Single    26     519.3975   \n",
              "2   27099               Si  2.Universidad       Single    34    4223.5297   \n",
              "3   15055               Si  2.Universidad      Married    37   14522.9563   \n",
              "4  150550               No     3.Posgrado       Single    29  124060.1253   \n",
              "\n",
              "         Pago  Moroso  \n",
              "0      0.0000       1  \n",
              "1      0.0000       1  \n",
              "2    457.0698       0  \n",
              "3    602.2000       0  \n",
              "4  16560.5000       0  "
            ],
            "text/html": [
              "\n",
              "  <div id=\"df-e1286a2d-c6fb-426a-8fcf-9f3e40d661b5\">\n",
              "    <div class=\"colab-df-container\">\n",
              "      <div>\n",
              "<style scoped>\n",
              "    .dataframe tbody tr th:only-of-type {\n",
              "        vertical-align: middle;\n",
              "    }\n",
              "\n",
              "    .dataframe tbody tr th {\n",
              "        vertical-align: top;\n",
              "    }\n",
              "\n",
              "    .dataframe thead th {\n",
              "        text-align: right;\n",
              "    }\n",
              "</style>\n",
              "<table border=\"1\" class=\"dataframe\">\n",
              "  <thead>\n",
              "    <tr style=\"text-align: right;\">\n",
              "      <th></th>\n",
              "      <th>Limite</th>\n",
              "      <th>Cuenta_corriente</th>\n",
              "      <th>Escolaridad</th>\n",
              "      <th>Estado_civil</th>\n",
              "      <th>Edad</th>\n",
              "      <th>Factura</th>\n",
              "      <th>Pago</th>\n",
              "      <th>Moroso</th>\n",
              "    </tr>\n",
              "  </thead>\n",
              "  <tbody>\n",
              "    <tr>\n",
              "      <th>0</th>\n",
              "      <td>6022</td>\n",
              "      <td>Si</td>\n",
              "      <td>2.Universidad</td>\n",
              "      <td>Married</td>\n",
              "      <td>24</td>\n",
              "      <td>934.0122</td>\n",
              "      <td>0.0000</td>\n",
              "      <td>1</td>\n",
              "    </tr>\n",
              "    <tr>\n",
              "      <th>1</th>\n",
              "      <td>36132</td>\n",
              "      <td>Si</td>\n",
              "      <td>2.Universidad</td>\n",
              "      <td>Single</td>\n",
              "      <td>26</td>\n",
              "      <td>519.3975</td>\n",
              "      <td>0.0000</td>\n",
              "      <td>1</td>\n",
              "    </tr>\n",
              "    <tr>\n",
              "      <th>2</th>\n",
              "      <td>27099</td>\n",
              "      <td>Si</td>\n",
              "      <td>2.Universidad</td>\n",
              "      <td>Single</td>\n",
              "      <td>34</td>\n",
              "      <td>4223.5297</td>\n",
              "      <td>457.0698</td>\n",
              "      <td>0</td>\n",
              "    </tr>\n",
              "    <tr>\n",
              "      <th>3</th>\n",
              "      <td>15055</td>\n",
              "      <td>Si</td>\n",
              "      <td>2.Universidad</td>\n",
              "      <td>Married</td>\n",
              "      <td>37</td>\n",
              "      <td>14522.9563</td>\n",
              "      <td>602.2000</td>\n",
              "      <td>0</td>\n",
              "    </tr>\n",
              "    <tr>\n",
              "      <th>4</th>\n",
              "      <td>150550</td>\n",
              "      <td>No</td>\n",
              "      <td>3.Posgrado</td>\n",
              "      <td>Single</td>\n",
              "      <td>29</td>\n",
              "      <td>124060.1253</td>\n",
              "      <td>16560.5000</td>\n",
              "      <td>0</td>\n",
              "    </tr>\n",
              "  </tbody>\n",
              "</table>\n",
              "</div>\n",
              "      <button class=\"colab-df-convert\" onclick=\"convertToInteractive('df-e1286a2d-c6fb-426a-8fcf-9f3e40d661b5')\"\n",
              "              title=\"Convert this dataframe to an interactive table.\"\n",
              "              style=\"display:none;\">\n",
              "        \n",
              "  <svg xmlns=\"http://www.w3.org/2000/svg\" height=\"24px\"viewBox=\"0 0 24 24\"\n",
              "       width=\"24px\">\n",
              "    <path d=\"M0 0h24v24H0V0z\" fill=\"none\"/>\n",
              "    <path d=\"M18.56 5.44l.94 2.06.94-2.06 2.06-.94-2.06-.94-.94-2.06-.94 2.06-2.06.94zm-11 1L8.5 8.5l.94-2.06 2.06-.94-2.06-.94L8.5 2.5l-.94 2.06-2.06.94zm10 10l.94 2.06.94-2.06 2.06-.94-2.06-.94-.94-2.06-.94 2.06-2.06.94z\"/><path d=\"M17.41 7.96l-1.37-1.37c-.4-.4-.92-.59-1.43-.59-.52 0-1.04.2-1.43.59L10.3 9.45l-7.72 7.72c-.78.78-.78 2.05 0 2.83L4 21.41c.39.39.9.59 1.41.59.51 0 1.02-.2 1.41-.59l7.78-7.78 2.81-2.81c.8-.78.8-2.07 0-2.86zM5.41 20L4 18.59l7.72-7.72 1.47 1.35L5.41 20z\"/>\n",
              "  </svg>\n",
              "      </button>\n",
              "      \n",
              "  <style>\n",
              "    .colab-df-container {\n",
              "      display:flex;\n",
              "      flex-wrap:wrap;\n",
              "      gap: 12px;\n",
              "    }\n",
              "\n",
              "    .colab-df-convert {\n",
              "      background-color: #E8F0FE;\n",
              "      border: none;\n",
              "      border-radius: 50%;\n",
              "      cursor: pointer;\n",
              "      display: none;\n",
              "      fill: #1967D2;\n",
              "      height: 32px;\n",
              "      padding: 0 0 0 0;\n",
              "      width: 32px;\n",
              "    }\n",
              "\n",
              "    .colab-df-convert:hover {\n",
              "      background-color: #E2EBFA;\n",
              "      box-shadow: 0px 1px 2px rgba(60, 64, 67, 0.3), 0px 1px 3px 1px rgba(60, 64, 67, 0.15);\n",
              "      fill: #174EA6;\n",
              "    }\n",
              "\n",
              "    [theme=dark] .colab-df-convert {\n",
              "      background-color: #3B4455;\n",
              "      fill: #D2E3FC;\n",
              "    }\n",
              "\n",
              "    [theme=dark] .colab-df-convert:hover {\n",
              "      background-color: #434B5C;\n",
              "      box-shadow: 0px 1px 3px 1px rgba(0, 0, 0, 0.15);\n",
              "      filter: drop-shadow(0px 1px 2px rgba(0, 0, 0, 0.3));\n",
              "      fill: #FFFFFF;\n",
              "    }\n",
              "  </style>\n",
              "\n",
              "      <script>\n",
              "        const buttonEl =\n",
              "          document.querySelector('#df-e1286a2d-c6fb-426a-8fcf-9f3e40d661b5 button.colab-df-convert');\n",
              "        buttonEl.style.display =\n",
              "          google.colab.kernel.accessAllowed ? 'block' : 'none';\n",
              "\n",
              "        async function convertToInteractive(key) {\n",
              "          const element = document.querySelector('#df-e1286a2d-c6fb-426a-8fcf-9f3e40d661b5');\n",
              "          const dataTable =\n",
              "            await google.colab.kernel.invokeFunction('convertToInteractive',\n",
              "                                                     [key], {});\n",
              "          if (!dataTable) return;\n",
              "\n",
              "          const docLinkHtml = 'Like what you see? Visit the ' +\n",
              "            '<a target=\"_blank\" href=https://colab.research.google.com/notebooks/data_table.ipynb>data table notebook</a>'\n",
              "            + ' to learn more about interactive tables.';\n",
              "          element.innerHTML = '';\n",
              "          dataTable['output_type'] = 'display_data';\n",
              "          await google.colab.output.renderOutput(dataTable, element);\n",
              "          const docLink = document.createElement('div');\n",
              "          docLink.innerHTML = docLinkHtml;\n",
              "          element.appendChild(docLink);\n",
              "        }\n",
              "      </script>\n",
              "    </div>\n",
              "  </div>\n",
              "  "
            ]
          },
          "metadata": {},
          "execution_count": 143
        }
      ]
    },
    {
      "cell_type": "code",
      "source": [
        "tarjetas.Estado_civil.unique()"
      ],
      "metadata": {
        "colab": {
          "base_uri": "https://localhost:8080/"
        },
        "id": "0H9Z839Vuuhj",
        "outputId": "da4a4f64-5ddd-40af-fb1a-2db101fb316a"
      },
      "execution_count": 144,
      "outputs": [
        {
          "output_type": "execute_result",
          "data": {
            "text/plain": [
              "array(['Married', 'Single'], dtype=object)"
            ]
          },
          "metadata": {},
          "execution_count": 144
        }
      ]
    },
    {
      "cell_type": "code",
      "source": [
        "dic_estado_civil = {\n",
        "    'Married' : 'Casado/a',\n",
        "    'Single' : 'Soltero/a'\n",
        "}"
      ],
      "metadata": {
        "id": "xLu6UnxDu5-D"
      },
      "execution_count": 145,
      "outputs": []
    },
    {
      "cell_type": "code",
      "source": [
        "tarjetas.Estado_civil = tarjetas.Estado_civil.map(dic_estado_civil)\n",
        "tarjetas.head()"
      ],
      "metadata": {
        "colab": {
          "base_uri": "https://localhost:8080/",
          "height": 206
        },
        "id": "3XTgXjDSvSXH",
        "outputId": "455d5a8f-dfa9-46f6-af1a-d4298f22751f"
      },
      "execution_count": 146,
      "outputs": [
        {
          "output_type": "execute_result",
          "data": {
            "text/plain": [
              "   Limite Cuenta_corriente    Escolaridad Estado_civil  Edad      Factura  \\\n",
              "0    6022               Si  2.Universidad     Casado/a    24     934.0122   \n",
              "1   36132               Si  2.Universidad    Soltero/a    26     519.3975   \n",
              "2   27099               Si  2.Universidad    Soltero/a    34    4223.5297   \n",
              "3   15055               Si  2.Universidad     Casado/a    37   14522.9563   \n",
              "4  150550               No     3.Posgrado    Soltero/a    29  124060.1253   \n",
              "\n",
              "         Pago  Moroso  \n",
              "0      0.0000       1  \n",
              "1      0.0000       1  \n",
              "2    457.0698       0  \n",
              "3    602.2000       0  \n",
              "4  16560.5000       0  "
            ],
            "text/html": [
              "\n",
              "  <div id=\"df-a9ac47b5-7fed-4418-9951-6921df8a83ef\">\n",
              "    <div class=\"colab-df-container\">\n",
              "      <div>\n",
              "<style scoped>\n",
              "    .dataframe tbody tr th:only-of-type {\n",
              "        vertical-align: middle;\n",
              "    }\n",
              "\n",
              "    .dataframe tbody tr th {\n",
              "        vertical-align: top;\n",
              "    }\n",
              "\n",
              "    .dataframe thead th {\n",
              "        text-align: right;\n",
              "    }\n",
              "</style>\n",
              "<table border=\"1\" class=\"dataframe\">\n",
              "  <thead>\n",
              "    <tr style=\"text-align: right;\">\n",
              "      <th></th>\n",
              "      <th>Limite</th>\n",
              "      <th>Cuenta_corriente</th>\n",
              "      <th>Escolaridad</th>\n",
              "      <th>Estado_civil</th>\n",
              "      <th>Edad</th>\n",
              "      <th>Factura</th>\n",
              "      <th>Pago</th>\n",
              "      <th>Moroso</th>\n",
              "    </tr>\n",
              "  </thead>\n",
              "  <tbody>\n",
              "    <tr>\n",
              "      <th>0</th>\n",
              "      <td>6022</td>\n",
              "      <td>Si</td>\n",
              "      <td>2.Universidad</td>\n",
              "      <td>Casado/a</td>\n",
              "      <td>24</td>\n",
              "      <td>934.0122</td>\n",
              "      <td>0.0000</td>\n",
              "      <td>1</td>\n",
              "    </tr>\n",
              "    <tr>\n",
              "      <th>1</th>\n",
              "      <td>36132</td>\n",
              "      <td>Si</td>\n",
              "      <td>2.Universidad</td>\n",
              "      <td>Soltero/a</td>\n",
              "      <td>26</td>\n",
              "      <td>519.3975</td>\n",
              "      <td>0.0000</td>\n",
              "      <td>1</td>\n",
              "    </tr>\n",
              "    <tr>\n",
              "      <th>2</th>\n",
              "      <td>27099</td>\n",
              "      <td>Si</td>\n",
              "      <td>2.Universidad</td>\n",
              "      <td>Soltero/a</td>\n",
              "      <td>34</td>\n",
              "      <td>4223.5297</td>\n",
              "      <td>457.0698</td>\n",
              "      <td>0</td>\n",
              "    </tr>\n",
              "    <tr>\n",
              "      <th>3</th>\n",
              "      <td>15055</td>\n",
              "      <td>Si</td>\n",
              "      <td>2.Universidad</td>\n",
              "      <td>Casado/a</td>\n",
              "      <td>37</td>\n",
              "      <td>14522.9563</td>\n",
              "      <td>602.2000</td>\n",
              "      <td>0</td>\n",
              "    </tr>\n",
              "    <tr>\n",
              "      <th>4</th>\n",
              "      <td>150550</td>\n",
              "      <td>No</td>\n",
              "      <td>3.Posgrado</td>\n",
              "      <td>Soltero/a</td>\n",
              "      <td>29</td>\n",
              "      <td>124060.1253</td>\n",
              "      <td>16560.5000</td>\n",
              "      <td>0</td>\n",
              "    </tr>\n",
              "  </tbody>\n",
              "</table>\n",
              "</div>\n",
              "      <button class=\"colab-df-convert\" onclick=\"convertToInteractive('df-a9ac47b5-7fed-4418-9951-6921df8a83ef')\"\n",
              "              title=\"Convert this dataframe to an interactive table.\"\n",
              "              style=\"display:none;\">\n",
              "        \n",
              "  <svg xmlns=\"http://www.w3.org/2000/svg\" height=\"24px\"viewBox=\"0 0 24 24\"\n",
              "       width=\"24px\">\n",
              "    <path d=\"M0 0h24v24H0V0z\" fill=\"none\"/>\n",
              "    <path d=\"M18.56 5.44l.94 2.06.94-2.06 2.06-.94-2.06-.94-.94-2.06-.94 2.06-2.06.94zm-11 1L8.5 8.5l.94-2.06 2.06-.94-2.06-.94L8.5 2.5l-.94 2.06-2.06.94zm10 10l.94 2.06.94-2.06 2.06-.94-2.06-.94-.94-2.06-.94 2.06-2.06.94z\"/><path d=\"M17.41 7.96l-1.37-1.37c-.4-.4-.92-.59-1.43-.59-.52 0-1.04.2-1.43.59L10.3 9.45l-7.72 7.72c-.78.78-.78 2.05 0 2.83L4 21.41c.39.39.9.59 1.41.59.51 0 1.02-.2 1.41-.59l7.78-7.78 2.81-2.81c.8-.78.8-2.07 0-2.86zM5.41 20L4 18.59l7.72-7.72 1.47 1.35L5.41 20z\"/>\n",
              "  </svg>\n",
              "      </button>\n",
              "      \n",
              "  <style>\n",
              "    .colab-df-container {\n",
              "      display:flex;\n",
              "      flex-wrap:wrap;\n",
              "      gap: 12px;\n",
              "    }\n",
              "\n",
              "    .colab-df-convert {\n",
              "      background-color: #E8F0FE;\n",
              "      border: none;\n",
              "      border-radius: 50%;\n",
              "      cursor: pointer;\n",
              "      display: none;\n",
              "      fill: #1967D2;\n",
              "      height: 32px;\n",
              "      padding: 0 0 0 0;\n",
              "      width: 32px;\n",
              "    }\n",
              "\n",
              "    .colab-df-convert:hover {\n",
              "      background-color: #E2EBFA;\n",
              "      box-shadow: 0px 1px 2px rgba(60, 64, 67, 0.3), 0px 1px 3px 1px rgba(60, 64, 67, 0.15);\n",
              "      fill: #174EA6;\n",
              "    }\n",
              "\n",
              "    [theme=dark] .colab-df-convert {\n",
              "      background-color: #3B4455;\n",
              "      fill: #D2E3FC;\n",
              "    }\n",
              "\n",
              "    [theme=dark] .colab-df-convert:hover {\n",
              "      background-color: #434B5C;\n",
              "      box-shadow: 0px 1px 3px 1px rgba(0, 0, 0, 0.15);\n",
              "      filter: drop-shadow(0px 1px 2px rgba(0, 0, 0, 0.3));\n",
              "      fill: #FFFFFF;\n",
              "    }\n",
              "  </style>\n",
              "\n",
              "      <script>\n",
              "        const buttonEl =\n",
              "          document.querySelector('#df-a9ac47b5-7fed-4418-9951-6921df8a83ef button.colab-df-convert');\n",
              "        buttonEl.style.display =\n",
              "          google.colab.kernel.accessAllowed ? 'block' : 'none';\n",
              "\n",
              "        async function convertToInteractive(key) {\n",
              "          const element = document.querySelector('#df-a9ac47b5-7fed-4418-9951-6921df8a83ef');\n",
              "          const dataTable =\n",
              "            await google.colab.kernel.invokeFunction('convertToInteractive',\n",
              "                                                     [key], {});\n",
              "          if (!dataTable) return;\n",
              "\n",
              "          const docLinkHtml = 'Like what you see? Visit the ' +\n",
              "            '<a target=\"_blank\" href=https://colab.research.google.com/notebooks/data_table.ipynb>data table notebook</a>'\n",
              "            + ' to learn more about interactive tables.';\n",
              "          element.innerHTML = '';\n",
              "          dataTable['output_type'] = 'display_data';\n",
              "          await google.colab.output.renderOutput(dataTable, element);\n",
              "          const docLink = document.createElement('div');\n",
              "          docLink.innerHTML = docLinkHtml;\n",
              "          element.appendChild(docLink);\n",
              "        }\n",
              "      </script>\n",
              "    </div>\n",
              "  </div>\n",
              "  "
            ]
          },
          "metadata": {},
          "execution_count": 146
        }
      ]
    },
    {
      "cell_type": "code",
      "source": [
        "# Importando Seaborn\n",
        "import seaborn as sns\n",
        "!pip show Seaborn"
      ],
      "metadata": {
        "colab": {
          "base_uri": "https://localhost:8080/"
        },
        "id": "bbf_HIKwxBYb",
        "outputId": "d5e80b13-91e8-4b8f-e349-08898a9bf1ad"
      },
      "execution_count": 149,
      "outputs": [
        {
          "output_type": "stream",
          "name": "stdout",
          "text": [
            "Name: seaborn\n",
            "Version: 0.11.2\n",
            "Summary: seaborn: statistical data visualization\n",
            "Home-page: https://seaborn.pydata.org\n",
            "Author: Michael Waskom\n",
            "Author-email: mwaskom@gmail.com\n",
            "License: BSD (3-clause)\n",
            "Location: /usr/local/lib/python3.7/dist-packages\n",
            "Requires: scipy, pandas, numpy, matplotlib\n",
            "Required-by: missingno\n"
          ]
        }
      ]
    },
    {
      "cell_type": "code",
      "source": [
        "tarjetas.shape"
      ],
      "metadata": {
        "colab": {
          "base_uri": "https://localhost:8080/"
        },
        "id": "MzwRRKoRx9kp",
        "outputId": "c009c325-9059-41dc-e25a-33f85aea75d1"
      },
      "execution_count": 151,
      "outputs": [
        {
          "output_type": "execute_result",
          "data": {
            "text/plain": [
              "(1500, 8)"
            ]
          },
          "metadata": {},
          "execution_count": 151
        }
      ]
    },
    {
      "cell_type": "code",
      "source": [
        "tarjetas.head()"
      ],
      "metadata": {
        "colab": {
          "base_uri": "https://localhost:8080/",
          "height": 206
        },
        "id": "6xSa4u7EyEsI",
        "outputId": "373bd82d-49c9-4338-ca3e-2ac95b30b10b"
      },
      "execution_count": 152,
      "outputs": [
        {
          "output_type": "execute_result",
          "data": {
            "text/plain": [
              "   Limite Cuenta_corriente    Escolaridad Estado_civil  Edad      Factura  \\\n",
              "0    6022               Si  2.Universidad     Casado/a    24     934.0122   \n",
              "1   36132               Si  2.Universidad    Soltero/a    26     519.3975   \n",
              "2   27099               Si  2.Universidad    Soltero/a    34    4223.5297   \n",
              "3   15055               Si  2.Universidad     Casado/a    37   14522.9563   \n",
              "4  150550               No     3.Posgrado    Soltero/a    29  124060.1253   \n",
              "\n",
              "         Pago  Moroso  \n",
              "0      0.0000       1  \n",
              "1      0.0000       1  \n",
              "2    457.0698       0  \n",
              "3    602.2000       0  \n",
              "4  16560.5000       0  "
            ],
            "text/html": [
              "\n",
              "  <div id=\"df-d862d284-1b2d-4963-92d9-2c2276bb2f92\">\n",
              "    <div class=\"colab-df-container\">\n",
              "      <div>\n",
              "<style scoped>\n",
              "    .dataframe tbody tr th:only-of-type {\n",
              "        vertical-align: middle;\n",
              "    }\n",
              "\n",
              "    .dataframe tbody tr th {\n",
              "        vertical-align: top;\n",
              "    }\n",
              "\n",
              "    .dataframe thead th {\n",
              "        text-align: right;\n",
              "    }\n",
              "</style>\n",
              "<table border=\"1\" class=\"dataframe\">\n",
              "  <thead>\n",
              "    <tr style=\"text-align: right;\">\n",
              "      <th></th>\n",
              "      <th>Limite</th>\n",
              "      <th>Cuenta_corriente</th>\n",
              "      <th>Escolaridad</th>\n",
              "      <th>Estado_civil</th>\n",
              "      <th>Edad</th>\n",
              "      <th>Factura</th>\n",
              "      <th>Pago</th>\n",
              "      <th>Moroso</th>\n",
              "    </tr>\n",
              "  </thead>\n",
              "  <tbody>\n",
              "    <tr>\n",
              "      <th>0</th>\n",
              "      <td>6022</td>\n",
              "      <td>Si</td>\n",
              "      <td>2.Universidad</td>\n",
              "      <td>Casado/a</td>\n",
              "      <td>24</td>\n",
              "      <td>934.0122</td>\n",
              "      <td>0.0000</td>\n",
              "      <td>1</td>\n",
              "    </tr>\n",
              "    <tr>\n",
              "      <th>1</th>\n",
              "      <td>36132</td>\n",
              "      <td>Si</td>\n",
              "      <td>2.Universidad</td>\n",
              "      <td>Soltero/a</td>\n",
              "      <td>26</td>\n",
              "      <td>519.3975</td>\n",
              "      <td>0.0000</td>\n",
              "      <td>1</td>\n",
              "    </tr>\n",
              "    <tr>\n",
              "      <th>2</th>\n",
              "      <td>27099</td>\n",
              "      <td>Si</td>\n",
              "      <td>2.Universidad</td>\n",
              "      <td>Soltero/a</td>\n",
              "      <td>34</td>\n",
              "      <td>4223.5297</td>\n",
              "      <td>457.0698</td>\n",
              "      <td>0</td>\n",
              "    </tr>\n",
              "    <tr>\n",
              "      <th>3</th>\n",
              "      <td>15055</td>\n",
              "      <td>Si</td>\n",
              "      <td>2.Universidad</td>\n",
              "      <td>Casado/a</td>\n",
              "      <td>37</td>\n",
              "      <td>14522.9563</td>\n",
              "      <td>602.2000</td>\n",
              "      <td>0</td>\n",
              "    </tr>\n",
              "    <tr>\n",
              "      <th>4</th>\n",
              "      <td>150550</td>\n",
              "      <td>No</td>\n",
              "      <td>3.Posgrado</td>\n",
              "      <td>Soltero/a</td>\n",
              "      <td>29</td>\n",
              "      <td>124060.1253</td>\n",
              "      <td>16560.5000</td>\n",
              "      <td>0</td>\n",
              "    </tr>\n",
              "  </tbody>\n",
              "</table>\n",
              "</div>\n",
              "      <button class=\"colab-df-convert\" onclick=\"convertToInteractive('df-d862d284-1b2d-4963-92d9-2c2276bb2f92')\"\n",
              "              title=\"Convert this dataframe to an interactive table.\"\n",
              "              style=\"display:none;\">\n",
              "        \n",
              "  <svg xmlns=\"http://www.w3.org/2000/svg\" height=\"24px\"viewBox=\"0 0 24 24\"\n",
              "       width=\"24px\">\n",
              "    <path d=\"M0 0h24v24H0V0z\" fill=\"none\"/>\n",
              "    <path d=\"M18.56 5.44l.94 2.06.94-2.06 2.06-.94-2.06-.94-.94-2.06-.94 2.06-2.06.94zm-11 1L8.5 8.5l.94-2.06 2.06-.94-2.06-.94L8.5 2.5l-.94 2.06-2.06.94zm10 10l.94 2.06.94-2.06 2.06-.94-2.06-.94-.94-2.06-.94 2.06-2.06.94z\"/><path d=\"M17.41 7.96l-1.37-1.37c-.4-.4-.92-.59-1.43-.59-.52 0-1.04.2-1.43.59L10.3 9.45l-7.72 7.72c-.78.78-.78 2.05 0 2.83L4 21.41c.39.39.9.59 1.41.59.51 0 1.02-.2 1.41-.59l7.78-7.78 2.81-2.81c.8-.78.8-2.07 0-2.86zM5.41 20L4 18.59l7.72-7.72 1.47 1.35L5.41 20z\"/>\n",
              "  </svg>\n",
              "      </button>\n",
              "      \n",
              "  <style>\n",
              "    .colab-df-container {\n",
              "      display:flex;\n",
              "      flex-wrap:wrap;\n",
              "      gap: 12px;\n",
              "    }\n",
              "\n",
              "    .colab-df-convert {\n",
              "      background-color: #E8F0FE;\n",
              "      border: none;\n",
              "      border-radius: 50%;\n",
              "      cursor: pointer;\n",
              "      display: none;\n",
              "      fill: #1967D2;\n",
              "      height: 32px;\n",
              "      padding: 0 0 0 0;\n",
              "      width: 32px;\n",
              "    }\n",
              "\n",
              "    .colab-df-convert:hover {\n",
              "      background-color: #E2EBFA;\n",
              "      box-shadow: 0px 1px 2px rgba(60, 64, 67, 0.3), 0px 1px 3px 1px rgba(60, 64, 67, 0.15);\n",
              "      fill: #174EA6;\n",
              "    }\n",
              "\n",
              "    [theme=dark] .colab-df-convert {\n",
              "      background-color: #3B4455;\n",
              "      fill: #D2E3FC;\n",
              "    }\n",
              "\n",
              "    [theme=dark] .colab-df-convert:hover {\n",
              "      background-color: #434B5C;\n",
              "      box-shadow: 0px 1px 3px 1px rgba(0, 0, 0, 0.15);\n",
              "      filter: drop-shadow(0px 1px 2px rgba(0, 0, 0, 0.3));\n",
              "      fill: #FFFFFF;\n",
              "    }\n",
              "  </style>\n",
              "\n",
              "      <script>\n",
              "        const buttonEl =\n",
              "          document.querySelector('#df-d862d284-1b2d-4963-92d9-2c2276bb2f92 button.colab-df-convert');\n",
              "        buttonEl.style.display =\n",
              "          google.colab.kernel.accessAllowed ? 'block' : 'none';\n",
              "\n",
              "        async function convertToInteractive(key) {\n",
              "          const element = document.querySelector('#df-d862d284-1b2d-4963-92d9-2c2276bb2f92');\n",
              "          const dataTable =\n",
              "            await google.colab.kernel.invokeFunction('convertToInteractive',\n",
              "                                                     [key], {});\n",
              "          if (!dataTable) return;\n",
              "\n",
              "          const docLinkHtml = 'Like what you see? Visit the ' +\n",
              "            '<a target=\"_blank\" href=https://colab.research.google.com/notebooks/data_table.ipynb>data table notebook</a>'\n",
              "            + ' to learn more about interactive tables.';\n",
              "          element.innerHTML = '';\n",
              "          dataTable['output_type'] = 'display_data';\n",
              "          await google.colab.output.renderOutput(dataTable, element);\n",
              "          const docLink = document.createElement('div');\n",
              "          docLink.innerHTML = docLinkHtml;\n",
              "          element.appendChild(docLink);\n",
              "        }\n",
              "      </script>\n",
              "    </div>\n",
              "  </div>\n",
              "  "
            ]
          },
          "metadata": {},
          "execution_count": 152
        }
      ]
    },
    {
      "cell_type": "code",
      "source": [
        "# Analisis 1"
      ],
      "metadata": {
        "id": "ReQBMBjx0S1A"
      },
      "execution_count": null,
      "outputs": []
    },
    {
      "cell_type": "code",
      "source": [
        "sns.distplot(tarjetas['Limite'])"
      ],
      "metadata": {
        "colab": {
          "base_uri": "https://localhost:8080/",
          "height": 362
        },
        "id": "H5fCnF9MyKHg",
        "outputId": "2403c2e4-084c-4c80-dfad-56fb38ad699b"
      },
      "execution_count": 153,
      "outputs": [
        {
          "output_type": "stream",
          "name": "stderr",
          "text": [
            "/usr/local/lib/python3.7/dist-packages/seaborn/distributions.py:2619: FutureWarning: `distplot` is a deprecated function and will be removed in a future version. Please adapt your code to use either `displot` (a figure-level function with similar flexibility) or `histplot` (an axes-level function for histograms).\n",
            "  warnings.warn(msg, FutureWarning)\n"
          ]
        },
        {
          "output_type": "execute_result",
          "data": {
            "text/plain": [
              "<matplotlib.axes._subplots.AxesSubplot at 0x7f4f9693e410>"
            ]
          },
          "metadata": {},
          "execution_count": 153
        },
        {
          "output_type": "display_data",
          "data": {
            "text/plain": [
              "<Figure size 432x288 with 1 Axes>"
            ],
            "image/png": "[encoded data removed]"
          },
          "metadata": {
            "needs_background": "light"
          }
        }
      ]
    },
    {
      "cell_type": "code",
      "source": [
        "sns.displot(data = tarjetas, x = 'Limite', hue = 'Escolaridad');"
      ],
      "metadata": {
        "colab": {
          "base_uri": "https://localhost:8080/",
          "height": 369
        },
        "id": "SKoK9PcTyf10",
        "outputId": "4b97eaf3-7057-40e1-d511-e0959d61a3d7"
      },
      "execution_count": 156,
      "outputs": [
        {
          "output_type": "display_data",
          "data": {
            "text/plain": [
              "<Figure size 465.375x360 with 1 Axes>"
            ],
            "image/png": "[encoded data removed]"
          },
          "metadata": {
            "needs_background": "light"
          }
        }
      ]
    },
    {
      "cell_type": "code",
      "source": [
        "# Analisis 2"
      ],
      "metadata": {
        "id": "rFgGmOoUzKiC"
      },
      "execution_count": null,
      "outputs": []
    },
    {
      "cell_type": "code",
      "source": [
        "tarjetas['Iu'] = tarjetas['Factura'] / tarjetas['Limite']\n",
        "tarjetas.head()"
      ],
      "metadata": {
        "colab": {
          "base_uri": "https://localhost:8080/",
          "height": 206
        },
        "id": "7qbAEmRN0ZeH",
        "outputId": "9d39dedb-23a6-4499-ff00-2f8282a2f06c"
      },
      "execution_count": 159,
      "outputs": [
        {
          "output_type": "execute_result",
          "data": {
            "text/plain": [
              "   Limite Cuenta_corriente    Escolaridad Estado_civil  Edad      Factura  \\\n",
              "0    6022               Si  2.Universidad     Casado/a    24     934.0122   \n",
              "1   36132               Si  2.Universidad    Soltero/a    26     519.3975   \n",
              "2   27099               Si  2.Universidad    Soltero/a    34    4223.5297   \n",
              "3   15055               Si  2.Universidad     Casado/a    37   14522.9563   \n",
              "4  150550               No     3.Posgrado    Soltero/a    29  124060.1253   \n",
              "\n",
              "         Pago  Moroso        Iu  \n",
              "0      0.0000       1  0.155100  \n",
              "1      0.0000       1  0.014375  \n",
              "2    457.0698       0  0.155856  \n",
              "3    602.2000       0  0.964660  \n",
              "4  16560.5000       0  0.824046  "
            ],
            "text/html": [
              "\n",
              "  <div id=\"df-95cc70a6-d32f-40ae-8156-80af2387a667\">\n",
              "    <div class=\"colab-df-container\">\n",
              "      <div>\n",
              "<style scoped>\n",
              "    .dataframe tbody tr th:only-of-type {\n",
              "        vertical-align: middle;\n",
              "    }\n",
              "\n",
              "    .dataframe tbody tr th {\n",
              "        vertical-align: top;\n",
              "    }\n",
              "\n",
              "    .dataframe thead th {\n",
              "        text-align: right;\n",
              "    }\n",
              "</style>\n",
              "<table border=\"1\" class=\"dataframe\">\n",
              "  <thead>\n",
              "    <tr style=\"text-align: right;\">\n",
              "      <th></th>\n",
              "      <th>Limite</th>\n",
              "      <th>Cuenta_corriente</th>\n",
              "      <th>Escolaridad</th>\n",
              "      <th>Estado_civil</th>\n",
              "      <th>Edad</th>\n",
              "      <th>Factura</th>\n",
              "      <th>Pago</th>\n",
              "      <th>Moroso</th>\n",
              "      <th>Iu</th>\n",
              "    </tr>\n",
              "  </thead>\n",
              "  <tbody>\n",
              "    <tr>\n",
              "      <th>0</th>\n",
              "      <td>6022</td>\n",
              "      <td>Si</td>\n",
              "      <td>2.Universidad</td>\n",
              "      <td>Casado/a</td>\n",
              "      <td>24</td>\n",
              "      <td>934.0122</td>\n",
              "      <td>0.0000</td>\n",
              "      <td>1</td>\n",
              "      <td>0.155100</td>\n",
              "    </tr>\n",
              "    <tr>\n",
              "      <th>1</th>\n",
              "      <td>36132</td>\n",
              "      <td>Si</td>\n",
              "      <td>2.Universidad</td>\n",
              "      <td>Soltero/a</td>\n",
              "      <td>26</td>\n",
              "      <td>519.3975</td>\n",
              "      <td>0.0000</td>\n",
              "      <td>1</td>\n",
              "      <td>0.014375</td>\n",
              "    </tr>\n",
              "    <tr>\n",
              "      <th>2</th>\n",
              "      <td>27099</td>\n",
              "      <td>Si</td>\n",
              "      <td>2.Universidad</td>\n",
              "      <td>Soltero/a</td>\n",
              "      <td>34</td>\n",
              "      <td>4223.5297</td>\n",
              "      <td>457.0698</td>\n",
              "      <td>0</td>\n",
              "      <td>0.155856</td>\n",
              "    </tr>\n",
              "    <tr>\n",
              "      <th>3</th>\n",
              "      <td>15055</td>\n",
              "      <td>Si</td>\n",
              "      <td>2.Universidad</td>\n",
              "      <td>Casado/a</td>\n",
              "      <td>37</td>\n",
              "      <td>14522.9563</td>\n",
              "      <td>602.2000</td>\n",
              "      <td>0</td>\n",
              "      <td>0.964660</td>\n",
              "    </tr>\n",
              "    <tr>\n",
              "      <th>4</th>\n",
              "      <td>150550</td>\n",
              "      <td>No</td>\n",
              "      <td>3.Posgrado</td>\n",
              "      <td>Soltero/a</td>\n",
              "      <td>29</td>\n",
              "      <td>124060.1253</td>\n",
              "      <td>16560.5000</td>\n",
              "      <td>0</td>\n",
              "      <td>0.824046</td>\n",
              "    </tr>\n",
              "  </tbody>\n",
              "</table>\n",
              "</div>\n",
              "      <button class=\"colab-df-convert\" onclick=\"convertToInteractive('df-95cc70a6-d32f-40ae-8156-80af2387a667')\"\n",
              "              title=\"Convert this dataframe to an interactive table.\"\n",
              "              style=\"display:none;\">\n",
              "        \n",
              "  <svg xmlns=\"http://www.w3.org/2000/svg\" height=\"24px\"viewBox=\"0 0 24 24\"\n",
              "       width=\"24px\">\n",
              "    <path d=\"M0 0h24v24H0V0z\" fill=\"none\"/>\n",
              "    <path d=\"M18.56 5.44l.94 2.06.94-2.06 2.06-.94-2.06-.94-.94-2.06-.94 2.06-2.06.94zm-11 1L8.5 8.5l.94-2.06 2.06-.94-2.06-.94L8.5 2.5l-.94 2.06-2.06.94zm10 10l.94 2.06.94-2.06 2.06-.94-2.06-.94-.94-2.06-.94 2.06-2.06.94z\"/><path d=\"M17.41 7.96l-1.37-1.37c-.4-.4-.92-.59-1.43-.59-.52 0-1.04.2-1.43.59L10.3 9.45l-7.72 7.72c-.78.78-.78 2.05 0 2.83L4 21.41c.39.39.9.59 1.41.59.51 0 1.02-.2 1.41-.59l7.78-7.78 2.81-2.81c.8-.78.8-2.07 0-2.86zM5.41 20L4 18.59l7.72-7.72 1.47 1.35L5.41 20z\"/>\n",
              "  </svg>\n",
              "      </button>\n",
              "      \n",
              "  <style>\n",
              "    .colab-df-container {\n",
              "      display:flex;\n",
              "      flex-wrap:wrap;\n",
              "      gap: 12px;\n",
              "    }\n",
              "\n",
              "    .colab-df-convert {\n",
              "      background-color: #E8F0FE;\n",
              "      border: none;\n",
              "      border-radius: 50%;\n",
              "      cursor: pointer;\n",
              "      display: none;\n",
              "      fill: #1967D2;\n",
              "      height: 32px;\n",
              "      padding: 0 0 0 0;\n",
              "      width: 32px;\n",
              "    }\n",
              "\n",
              "    .colab-df-convert:hover {\n",
              "      background-color: #E2EBFA;\n",
              "      box-shadow: 0px 1px 2px rgba(60, 64, 67, 0.3), 0px 1px 3px 1px rgba(60, 64, 67, 0.15);\n",
              "      fill: #174EA6;\n",
              "    }\n",
              "\n",
              "    [theme=dark] .colab-df-convert {\n",
              "      background-color: #3B4455;\n",
              "      fill: #D2E3FC;\n",
              "    }\n",
              "\n",
              "    [theme=dark] .colab-df-convert:hover {\n",
              "      background-color: #434B5C;\n",
              "      box-shadow: 0px 1px 3px 1px rgba(0, 0, 0, 0.15);\n",
              "      filter: drop-shadow(0px 1px 2px rgba(0, 0, 0, 0.3));\n",
              "      fill: #FFFFFF;\n",
              "    }\n",
              "  </style>\n",
              "\n",
              "      <script>\n",
              "        const buttonEl =\n",
              "          document.querySelector('#df-95cc70a6-d32f-40ae-8156-80af2387a667 button.colab-df-convert');\n",
              "        buttonEl.style.display =\n",
              "          google.colab.kernel.accessAllowed ? 'block' : 'none';\n",
              "\n",
              "        async function convertToInteractive(key) {\n",
              "          const element = document.querySelector('#df-95cc70a6-d32f-40ae-8156-80af2387a667');\n",
              "          const dataTable =\n",
              "            await google.colab.kernel.invokeFunction('convertToInteractive',\n",
              "                                                     [key], {});\n",
              "          if (!dataTable) return;\n",
              "\n",
              "          const docLinkHtml = 'Like what you see? Visit the ' +\n",
              "            '<a target=\"_blank\" href=https://colab.research.google.com/notebooks/data_table.ipynb>data table notebook</a>'\n",
              "            + ' to learn more about interactive tables.';\n",
              "          element.innerHTML = '';\n",
              "          dataTable['output_type'] = 'display_data';\n",
              "          await google.colab.output.renderOutput(dataTable, element);\n",
              "          const docLink = document.createElement('div');\n",
              "          docLink.innerHTML = docLinkHtml;\n",
              "          element.appendChild(docLink);\n",
              "        }\n",
              "      </script>\n",
              "    </div>\n",
              "  </div>\n",
              "  "
            ]
          },
          "metadata": {},
          "execution_count": 159
        }
      ]
    },
    {
      "cell_type": "code",
      "source": [
        "sns.displot(data = tarjetas, x = 'Iu');"
      ],
      "metadata": {
        "colab": {
          "base_uri": "https://localhost:8080/",
          "height": 369
        },
        "id": "IATeACuF05Oz",
        "outputId": "840ab080-3caa-4c16-fb27-6986d95d5946"
      },
      "execution_count": 162,
      "outputs": [
        {
          "output_type": "display_data",
          "data": {
            "text/plain": [
              "<Figure size 360x360 with 1 Axes>"
            ],
            "image/png": "[encoded data removed]"
          },
          "metadata": {
            "needs_background": "light"
          }
        }
      ]
    },
    {
      "cell_type": "markdown",
      "source": [
        "Hay un público significativo que usan poco del límite que tienen disponible."
      ],
      "metadata": {
        "id": "3qPwWeaA1glb"
      }
    },
    {
      "cell_type": "code",
      "source": [
        "# Estilos y Colores"
      ],
      "metadata": {
        "id": "51RA-hgU1e4b"
      },
      "execution_count": null,
      "outputs": []
    },
    {
      "cell_type": "code",
      "source": [
        "sns.set_style('darkgrid')"
      ],
      "metadata": {
        "id": "A-9AWQWM2K5v"
      },
      "execution_count": 166,
      "outputs": []
    },
    {
      "cell_type": "code",
      "source": [
        "sns.displot(data = tarjetas, x = 'Limite', hue = 'Escolaridad', palette = 'inferno_r');"
      ],
      "metadata": {
        "colab": {
          "base_uri": "https://localhost:8080/",
          "height": 369
        },
        "id": "RD_Mye-p2vbh",
        "outputId": "fcff87bb-5416-465d-89b6-7dde94c71188"
      },
      "execution_count": 169,
      "outputs": [
        {
          "output_type": "display_data",
          "data": {
            "text/plain": [
              "<Figure size 465.375x360 with 1 Axes>"
            ],
            "image/png": "[encoded data removed]"
          },
          "metadata": {}
        }
      ]
    },
    {
      "cell_type": "code",
      "source": [
        "# Analisis de Variables Categoricas"
      ],
      "metadata": {
        "id": "17neoo2W3Fen"
      },
      "execution_count": null,
      "outputs": []
    },
    {
      "cell_type": "code",
      "source": [
        "tarjetas.head()"
      ],
      "metadata": {
        "colab": {
          "base_uri": "https://localhost:8080/",
          "height": 206
        },
        "id": "YME88GjGATQJ",
        "outputId": "3012b7f3-c539-4325-9ccf-5af872dc3f70"
      },
      "execution_count": 170,
      "outputs": [
        {
          "output_type": "execute_result",
          "data": {
            "text/plain": [
              "   Limite Cuenta_corriente    Escolaridad Estado_civil  Edad      Factura  \\\n",
              "0    6022               Si  2.Universidad     Casado/a    24     934.0122   \n",
              "1   36132               Si  2.Universidad    Soltero/a    26     519.3975   \n",
              "2   27099               Si  2.Universidad    Soltero/a    34    4223.5297   \n",
              "3   15055               Si  2.Universidad     Casado/a    37   14522.9563   \n",
              "4  150550               No     3.Posgrado    Soltero/a    29  124060.1253   \n",
              "\n",
              "         Pago  Moroso        Iu  \n",
              "0      0.0000       1  0.155100  \n",
              "1      0.0000       1  0.014375  \n",
              "2    457.0698       0  0.155856  \n",
              "3    602.2000       0  0.964660  \n",
              "4  16560.5000       0  0.824046  "
            ],
            "text/html": [
              "\n",
              "  <div id=\"df-e43bc2c4-a8df-4df2-8ab6-b24e3f04db91\">\n",
              "    <div class=\"colab-df-container\">\n",
              "      <div>\n",
              "<style scoped>\n",
              "    .dataframe tbody tr th:only-of-type {\n",
              "        vertical-align: middle;\n",
              "    }\n",
              "\n",
              "    .dataframe tbody tr th {\n",
              "        vertical-align: top;\n",
              "    }\n",
              "\n",
              "    .dataframe thead th {\n",
              "        text-align: right;\n",
              "    }\n",
              "</style>\n",
              "<table border=\"1\" class=\"dataframe\">\n",
              "  <thead>\n",
              "    <tr style=\"text-align: right;\">\n",
              "      <th></th>\n",
              "      <th>Limite</th>\n",
              "      <th>Cuenta_corriente</th>\n",
              "      <th>Escolaridad</th>\n",
              "      <th>Estado_civil</th>\n",
              "      <th>Edad</th>\n",
              "      <th>Factura</th>\n",
              "      <th>Pago</th>\n",
              "      <th>Moroso</th>\n",
              "      <th>Iu</th>\n",
              "    </tr>\n",
              "  </thead>\n",
              "  <tbody>\n",
              "    <tr>\n",
              "      <th>0</th>\n",
              "      <td>6022</td>\n",
              "      <td>Si</td>\n",
              "      <td>2.Universidad</td>\n",
              "      <td>Casado/a</td>\n",
              "      <td>24</td>\n",
              "      <td>934.0122</td>\n",
              "      <td>0.0000</td>\n",
              "      <td>1</td>\n",
              "      <td>0.155100</td>\n",
              "    </tr>\n",
              "    <tr>\n",
              "      <th>1</th>\n",
              "      <td>36132</td>\n",
              "      <td>Si</td>\n",
              "      <td>2.Universidad</td>\n",
              "      <td>Soltero/a</td>\n",
              "      <td>26</td>\n",
              "      <td>519.3975</td>\n",
              "      <td>0.0000</td>\n",
              "      <td>1</td>\n",
              "      <td>0.014375</td>\n",
              "    </tr>\n",
              "    <tr>\n",
              "      <th>2</th>\n",
              "      <td>27099</td>\n",
              "      <td>Si</td>\n",
              "      <td>2.Universidad</td>\n",
              "      <td>Soltero/a</td>\n",
              "      <td>34</td>\n",
              "      <td>4223.5297</td>\n",
              "      <td>457.0698</td>\n",
              "      <td>0</td>\n",
              "      <td>0.155856</td>\n",
              "    </tr>\n",
              "    <tr>\n",
              "      <th>3</th>\n",
              "      <td>15055</td>\n",
              "      <td>Si</td>\n",
              "      <td>2.Universidad</td>\n",
              "      <td>Casado/a</td>\n",
              "      <td>37</td>\n",
              "      <td>14522.9563</td>\n",
              "      <td>602.2000</td>\n",
              "      <td>0</td>\n",
              "      <td>0.964660</td>\n",
              "    </tr>\n",
              "    <tr>\n",
              "      <th>4</th>\n",
              "      <td>150550</td>\n",
              "      <td>No</td>\n",
              "      <td>3.Posgrado</td>\n",
              "      <td>Soltero/a</td>\n",
              "      <td>29</td>\n",
              "      <td>124060.1253</td>\n",
              "      <td>16560.5000</td>\n",
              "      <td>0</td>\n",
              "      <td>0.824046</td>\n",
              "    </tr>\n",
              "  </tbody>\n",
              "</table>\n",
              "</div>\n",
              "      <button class=\"colab-df-convert\" onclick=\"convertToInteractive('df-e43bc2c4-a8df-4df2-8ab6-b24e3f04db91')\"\n",
              "              title=\"Convert this dataframe to an interactive table.\"\n",
              "              style=\"display:none;\">\n",
              "        \n",
              "  <svg xmlns=\"http://www.w3.org/2000/svg\" height=\"24px\"viewBox=\"0 0 24 24\"\n",
              "       width=\"24px\">\n",
              "    <path d=\"M0 0h24v24H0V0z\" fill=\"none\"/>\n",
              "    <path d=\"M18.56 5.44l.94 2.06.94-2.06 2.06-.94-2.06-.94-.94-2.06-.94 2.06-2.06.94zm-11 1L8.5 8.5l.94-2.06 2.06-.94-2.06-.94L8.5 2.5l-.94 2.06-2.06.94zm10 10l.94 2.06.94-2.06 2.06-.94-2.06-.94-.94-2.06-.94 2.06-2.06.94z\"/><path d=\"M17.41 7.96l-1.37-1.37c-.4-.4-.92-.59-1.43-.59-.52 0-1.04.2-1.43.59L10.3 9.45l-7.72 7.72c-.78.78-.78 2.05 0 2.83L4 21.41c.39.39.9.59 1.41.59.51 0 1.02-.2 1.41-.59l7.78-7.78 2.81-2.81c.8-.78.8-2.07 0-2.86zM5.41 20L4 18.59l7.72-7.72 1.47 1.35L5.41 20z\"/>\n",
              "  </svg>\n",
              "      </button>\n",
              "      \n",
              "  <style>\n",
              "    .colab-df-container {\n",
              "      display:flex;\n",
              "      flex-wrap:wrap;\n",
              "      gap: 12px;\n",
              "    }\n",
              "\n",
              "    .colab-df-convert {\n",
              "      background-color: #E8F0FE;\n",
              "      border: none;\n",
              "      border-radius: 50%;\n",
              "      cursor: pointer;\n",
              "      display: none;\n",
              "      fill: #1967D2;\n",
              "      height: 32px;\n",
              "      padding: 0 0 0 0;\n",
              "      width: 32px;\n",
              "    }\n",
              "\n",
              "    .colab-df-convert:hover {\n",
              "      background-color: #E2EBFA;\n",
              "      box-shadow: 0px 1px 2px rgba(60, 64, 67, 0.3), 0px 1px 3px 1px rgba(60, 64, 67, 0.15);\n",
              "      fill: #174EA6;\n",
              "    }\n",
              "\n",
              "    [theme=dark] .colab-df-convert {\n",
              "      background-color: #3B4455;\n",
              "      fill: #D2E3FC;\n",
              "    }\n",
              "\n",
              "    [theme=dark] .colab-df-convert:hover {\n",
              "      background-color: #434B5C;\n",
              "      box-shadow: 0px 1px 3px 1px rgba(0, 0, 0, 0.15);\n",
              "      filter: drop-shadow(0px 1px 2px rgba(0, 0, 0, 0.3));\n",
              "      fill: #FFFFFF;\n",
              "    }\n",
              "  </style>\n",
              "\n",
              "      <script>\n",
              "        const buttonEl =\n",
              "          document.querySelector('#df-e43bc2c4-a8df-4df2-8ab6-b24e3f04db91 button.colab-df-convert');\n",
              "        buttonEl.style.display =\n",
              "          google.colab.kernel.accessAllowed ? 'block' : 'none';\n",
              "\n",
              "        async function convertToInteractive(key) {\n",
              "          const element = document.querySelector('#df-e43bc2c4-a8df-4df2-8ab6-b24e3f04db91');\n",
              "          const dataTable =\n",
              "            await google.colab.kernel.invokeFunction('convertToInteractive',\n",
              "                                                     [key], {});\n",
              "          if (!dataTable) return;\n",
              "\n",
              "          const docLinkHtml = 'Like what you see? Visit the ' +\n",
              "            '<a target=\"_blank\" href=https://colab.research.google.com/notebooks/data_table.ipynb>data table notebook</a>'\n",
              "            + ' to learn more about interactive tables.';\n",
              "          element.innerHTML = '';\n",
              "          dataTable['output_type'] = 'display_data';\n",
              "          await google.colab.output.renderOutput(dataTable, element);\n",
              "          const docLink = document.createElement('div');\n",
              "          docLink.innerHTML = docLinkHtml;\n",
              "          element.appendChild(docLink);\n",
              "        }\n",
              "      </script>\n",
              "    </div>\n",
              "  </div>\n",
              "  "
            ]
          },
          "metadata": {},
          "execution_count": 170
        }
      ]
    },
    {
      "cell_type": "code",
      "source": [
        "sns.countplot(x = 'Cuenta_corriente', data = tarjetas, hue = 'Moroso', palette = 'coolwarm');"
      ],
      "metadata": {
        "colab": {
          "base_uri": "https://localhost:8080/",
          "height": 280
        },
        "id": "JMb0KiQQAXTN",
        "outputId": "9ffc968f-a520-428a-9178-ee99defe8c2d"
      },
      "execution_count": 178,
      "outputs": [
        {
          "output_type": "display_data",
          "data": {
            "text/plain": [
              "<Figure size 432x288 with 1 Axes>"
            ],
            "image/png": "[encoded data removed]"
          },
          "metadata": {}
        }
      ]
    },
    {
      "cell_type": "code",
      "source": [
        "sns.catplot(x = 'Estado_civil', y = 'Limite', data = tarjetas, hue = 'Moroso', dodge = True);"
      ],
      "metadata": {
        "colab": {
          "base_uri": "https://localhost:8080/",
          "height": 369
        },
        "id": "GpAZLfNdBEn_",
        "outputId": "d408c5a5-962c-496b-cd40-6f99ba61e011"
      },
      "execution_count": 183,
      "outputs": [
        {
          "output_type": "display_data",
          "data": {
            "text/plain": [
              "<Figure size 403.75x360 with 1 Axes>"
            ],
            "image/png": "[encoded data removed]"
          },
          "metadata": {}
        }
      ]
    },
    {
      "cell_type": "code",
      "source": [
        "sns.swarmplot(x = 'Escolaridad', y = 'Iu', data = tarjetas);"
      ],
      "metadata": {
        "colab": {
          "base_uri": "https://localhost:8080/",
          "height": 403
        },
        "id": "HAmSqRSxCIDo",
        "outputId": "cdef2575-ea06-432a-c853-6a7b089aa06d"
      },
      "execution_count": 185,
      "outputs": [
        {
          "output_type": "stream",
          "name": "stderr",
          "text": [
            "/usr/local/lib/python3.7/dist-packages/seaborn/categorical.py:1296: UserWarning: 22.7% of the points cannot be placed; you may want to decrease the size of the markers or use stripplot.\n",
            "  warnings.warn(msg, UserWarning)\n",
            "/usr/local/lib/python3.7/dist-packages/seaborn/categorical.py:1296: UserWarning: 32.2% of the points cannot be placed; you may want to decrease the size of the markers or use stripplot.\n",
            "  warnings.warn(msg, UserWarning)\n",
            "/usr/local/lib/python3.7/dist-packages/seaborn/categorical.py:1296: UserWarning: 7.2% of the points cannot be placed; you may want to decrease the size of the markers or use stripplot.\n",
            "  warnings.warn(msg, UserWarning)\n"
          ]
        },
        {
          "output_type": "display_data",
          "data": {
            "text/plain": [
              "<Figure size 432x288 with 1 Axes>"
            ],
            "image/png": "[encoded data removed]"
          },
          "metadata": {}
        }
      ]
    },
    {
      "cell_type": "code",
      "source": [
        "sns.boxplot(x = 'Escolaridad', y = 'Iu', data = tarjetas, hue = 'Moroso', palette = 'bone');"
      ],
      "metadata": {
        "colab": {
          "base_uri": "https://localhost:8080/",
          "height": 279
        },
        "id": "i-MlL3GHDWhQ",
        "outputId": "6e249dcb-744a-42ba-989b-0da2592d836e"
      },
      "execution_count": 188,
      "outputs": [
        {
          "output_type": "display_data",
          "data": {
            "text/plain": [
              "<Figure size 432x288 with 1 Axes>"
            ],
            "image/png": "[encoded data removed]"
          },
          "metadata": {}
        }
      ]
    },
    {
      "cell_type": "code",
      "source": [
        "sns.violinplot(x = 'Escolaridad', y = 'Iu', data = tarjetas , hue = 'Moroso');"
      ],
      "metadata": {
        "colab": {
          "base_uri": "https://localhost:8080/",
          "height": 279
        },
        "id": "h9-k7ImFFQhb",
        "outputId": "16d21bdc-7ea6-4ff2-ef46-a946ac272a4e"
      },
      "execution_count": 190,
      "outputs": [
        {
          "output_type": "display_data",
          "data": {
            "text/plain": [
              "<Figure size 432x288 with 1 Axes>"
            ],
            "image/png": "[encoded data removed]"
          },
          "metadata": {}
        }
      ]
    },
    {
      "cell_type": "code",
      "source": [
        "tarjetas.head()"
      ],
      "metadata": {
        "colab": {
          "base_uri": "https://localhost:8080/",
          "height": 206
        },
        "id": "bEzvPx0DF4_z",
        "outputId": "c5e6fc13-a8fe-4759-f1f1-47ee515f78b8"
      },
      "execution_count": 191,
      "outputs": [
        {
          "output_type": "execute_result",
          "data": {
            "text/plain": [
              "   Limite Cuenta_corriente    Escolaridad Estado_civil  Edad      Factura  \\\n",
              "0    6022               Si  2.Universidad     Casado/a    24     934.0122   \n",
              "1   36132               Si  2.Universidad    Soltero/a    26     519.3975   \n",
              "2   27099               Si  2.Universidad    Soltero/a    34    4223.5297   \n",
              "3   15055               Si  2.Universidad     Casado/a    37   14522.9563   \n",
              "4  150550               No     3.Posgrado    Soltero/a    29  124060.1253   \n",
              "\n",
              "         Pago  Moroso        Iu  \n",
              "0      0.0000       1  0.155100  \n",
              "1      0.0000       1  0.014375  \n",
              "2    457.0698       0  0.155856  \n",
              "3    602.2000       0  0.964660  \n",
              "4  16560.5000       0  0.824046  "
            ],
            "text/html": [
              "\n",
              "  <div id=\"df-f008ba85-b2f4-42c1-8132-f54b7b694e8c\">\n",
              "    <div class=\"colab-df-container\">\n",
              "      <div>\n",
              "<style scoped>\n",
              "    .dataframe tbody tr th:only-of-type {\n",
              "        vertical-align: middle;\n",
              "    }\n",
              "\n",
              "    .dataframe tbody tr th {\n",
              "        vertical-align: top;\n",
              "    }\n",
              "\n",
              "    .dataframe thead th {\n",
              "        text-align: right;\n",
              "    }\n",
              "</style>\n",
              "<table border=\"1\" class=\"dataframe\">\n",
              "  <thead>\n",
              "    <tr style=\"text-align: right;\">\n",
              "      <th></th>\n",
              "      <th>Limite</th>\n",
              "      <th>Cuenta_corriente</th>\n",
              "      <th>Escolaridad</th>\n",
              "      <th>Estado_civil</th>\n",
              "      <th>Edad</th>\n",
              "      <th>Factura</th>\n",
              "      <th>Pago</th>\n",
              "      <th>Moroso</th>\n",
              "      <th>Iu</th>\n",
              "    </tr>\n",
              "  </thead>\n",
              "  <tbody>\n",
              "    <tr>\n",
              "      <th>0</th>\n",
              "      <td>6022</td>\n",
              "      <td>Si</td>\n",
              "      <td>2.Universidad</td>\n",
              "      <td>Casado/a</td>\n",
              "      <td>24</td>\n",
              "      <td>934.0122</td>\n",
              "      <td>0.0000</td>\n",
              "      <td>1</td>\n",
              "      <td>0.155100</td>\n",
              "    </tr>\n",
              "    <tr>\n",
              "      <th>1</th>\n",
              "      <td>36132</td>\n",
              "      <td>Si</td>\n",
              "      <td>2.Universidad</td>\n",
              "      <td>Soltero/a</td>\n",
              "      <td>26</td>\n",
              "      <td>519.3975</td>\n",
              "      <td>0.0000</td>\n",
              "      <td>1</td>\n",
              "      <td>0.014375</td>\n",
              "    </tr>\n",
              "    <tr>\n",
              "      <th>2</th>\n",
              "      <td>27099</td>\n",
              "      <td>Si</td>\n",
              "      <td>2.Universidad</td>\n",
              "      <td>Soltero/a</td>\n",
              "      <td>34</td>\n",
              "      <td>4223.5297</td>\n",
              "      <td>457.0698</td>\n",
              "      <td>0</td>\n",
              "      <td>0.155856</td>\n",
              "    </tr>\n",
              "    <tr>\n",
              "      <th>3</th>\n",
              "      <td>15055</td>\n",
              "      <td>Si</td>\n",
              "      <td>2.Universidad</td>\n",
              "      <td>Casado/a</td>\n",
              "      <td>37</td>\n",
              "      <td>14522.9563</td>\n",
              "      <td>602.2000</td>\n",
              "      <td>0</td>\n",
              "      <td>0.964660</td>\n",
              "    </tr>\n",
              "    <tr>\n",
              "      <th>4</th>\n",
              "      <td>150550</td>\n",
              "      <td>No</td>\n",
              "      <td>3.Posgrado</td>\n",
              "      <td>Soltero/a</td>\n",
              "      <td>29</td>\n",
              "      <td>124060.1253</td>\n",
              "      <td>16560.5000</td>\n",
              "      <td>0</td>\n",
              "      <td>0.824046</td>\n",
              "    </tr>\n",
              "  </tbody>\n",
              "</table>\n",
              "</div>\n",
              "      <button class=\"colab-df-convert\" onclick=\"convertToInteractive('df-f008ba85-b2f4-42c1-8132-f54b7b694e8c')\"\n",
              "              title=\"Convert this dataframe to an interactive table.\"\n",
              "              style=\"display:none;\">\n",
              "        \n",
              "  <svg xmlns=\"http://www.w3.org/2000/svg\" height=\"24px\"viewBox=\"0 0 24 24\"\n",
              "       width=\"24px\">\n",
              "    <path d=\"M0 0h24v24H0V0z\" fill=\"none\"/>\n",
              "    <path d=\"M18.56 5.44l.94 2.06.94-2.06 2.06-.94-2.06-.94-.94-2.06-.94 2.06-2.06.94zm-11 1L8.5 8.5l.94-2.06 2.06-.94-2.06-.94L8.5 2.5l-.94 2.06-2.06.94zm10 10l.94 2.06.94-2.06 2.06-.94-2.06-.94-.94-2.06-.94 2.06-2.06.94z\"/><path d=\"M17.41 7.96l-1.37-1.37c-.4-.4-.92-.59-1.43-.59-.52 0-1.04.2-1.43.59L10.3 9.45l-7.72 7.72c-.78.78-.78 2.05 0 2.83L4 21.41c.39.39.9.59 1.41.59.51 0 1.02-.2 1.41-.59l7.78-7.78 2.81-2.81c.8-.78.8-2.07 0-2.86zM5.41 20L4 18.59l7.72-7.72 1.47 1.35L5.41 20z\"/>\n",
              "  </svg>\n",
              "      </button>\n",
              "      \n",
              "  <style>\n",
              "    .colab-df-container {\n",
              "      display:flex;\n",
              "      flex-wrap:wrap;\n",
              "      gap: 12px;\n",
              "    }\n",
              "\n",
              "    .colab-df-convert {\n",
              "      background-color: #E8F0FE;\n",
              "      border: none;\n",
              "      border-radius: 50%;\n",
              "      cursor: pointer;\n",
              "      display: none;\n",
              "      fill: #1967D2;\n",
              "      height: 32px;\n",
              "      padding: 0 0 0 0;\n",
              "      width: 32px;\n",
              "    }\n",
              "\n",
              "    .colab-df-convert:hover {\n",
              "      background-color: #E2EBFA;\n",
              "      box-shadow: 0px 1px 2px rgba(60, 64, 67, 0.3), 0px 1px 3px 1px rgba(60, 64, 67, 0.15);\n",
              "      fill: #174EA6;\n",
              "    }\n",
              "\n",
              "    [theme=dark] .colab-df-convert {\n",
              "      background-color: #3B4455;\n",
              "      fill: #D2E3FC;\n",
              "    }\n",
              "\n",
              "    [theme=dark] .colab-df-convert:hover {\n",
              "      background-color: #434B5C;\n",
              "      box-shadow: 0px 1px 3px 1px rgba(0, 0, 0, 0.15);\n",
              "      filter: drop-shadow(0px 1px 2px rgba(0, 0, 0, 0.3));\n",
              "      fill: #FFFFFF;\n",
              "    }\n",
              "  </style>\n",
              "\n",
              "      <script>\n",
              "        const buttonEl =\n",
              "          document.querySelector('#df-f008ba85-b2f4-42c1-8132-f54b7b694e8c button.colab-df-convert');\n",
              "        buttonEl.style.display =\n",
              "          google.colab.kernel.accessAllowed ? 'block' : 'none';\n",
              "\n",
              "        async function convertToInteractive(key) {\n",
              "          const element = document.querySelector('#df-f008ba85-b2f4-42c1-8132-f54b7b694e8c');\n",
              "          const dataTable =\n",
              "            await google.colab.kernel.invokeFunction('convertToInteractive',\n",
              "                                                     [key], {});\n",
              "          if (!dataTable) return;\n",
              "\n",
              "          const docLinkHtml = 'Like what you see? Visit the ' +\n",
              "            '<a target=\"_blank\" href=https://colab.research.google.com/notebooks/data_table.ipynb>data table notebook</a>'\n",
              "            + ' to learn more about interactive tables.';\n",
              "          element.innerHTML = '';\n",
              "          dataTable['output_type'] = 'display_data';\n",
              "          await google.colab.output.renderOutput(dataTable, element);\n",
              "          const docLink = document.createElement('div');\n",
              "          docLink.innerHTML = docLinkHtml;\n",
              "          element.appendChild(docLink);\n",
              "        }\n",
              "      </script>\n",
              "    </div>\n",
              "  </div>\n",
              "  "
            ]
          },
          "metadata": {},
          "execution_count": 191
        }
      ]
    },
    {
      "cell_type": "code",
      "source": [
        "tarjetas.Edad.unique()"
      ],
      "metadata": {
        "colab": {
          "base_uri": "https://localhost:8080/"
        },
        "id": "X6bdue59GEMC",
        "outputId": "e003e8ec-47c1-4045-f00f-aaca9127b3d2"
      },
      "execution_count": 192,
      "outputs": [
        {
          "output_type": "execute_result",
          "data": {
            "text/plain": [
              "array([24, 26, 34, 37, 29, 23, 28, 51, 41, 30, 49, 39, 40, 47, 27, 33, 32,\n",
              "       54, 58, 22, 31, 25, 42, 45, 57, 56, 44, 35, 53, 43, 38, 63, 36, 52,\n",
              "       46, 50, 48, 75, 55, 73, 59, 21, 60, 67, 61, 62, 70, 72])"
            ]
          },
          "metadata": {},
          "execution_count": 192
        }
      ]
    },
    {
      "cell_type": "code",
      "source": [
        "bins = [20, 30, 40, 50, 100]\n",
        "nombres = ['20 - 30', '30 - 40', '40 - 50', '50 +']\n",
        "tarjetas['rango_edad'] = pd.cut(tarjetas['Edad'], bins, labels = nombres)\n",
        "tarjetas.head()"
      ],
      "metadata": {
        "colab": {
          "base_uri": "https://localhost:8080/",
          "height": 270
        },
        "id": "KGjzXx2yGWWE",
        "outputId": "b44c2be5-31f6-485d-bf28-e70eed220c75"
      },
      "execution_count": 193,
      "outputs": [
        {
          "output_type": "execute_result",
          "data": {
            "text/plain": [
              "   Limite Cuenta_corriente    Escolaridad Estado_civil  Edad      Factura  \\\n",
              "0    6022               Si  2.Universidad     Casado/a    24     934.0122   \n",
              "1   36132               Si  2.Universidad    Soltero/a    26     519.3975   \n",
              "2   27099               Si  2.Universidad    Soltero/a    34    4223.5297   \n",
              "3   15055               Si  2.Universidad     Casado/a    37   14522.9563   \n",
              "4  150550               No     3.Posgrado    Soltero/a    29  124060.1253   \n",
              "\n",
              "         Pago  Moroso        Iu rango_edad  \n",
              "0      0.0000       1  0.155100    20 - 30  \n",
              "1      0.0000       1  0.014375    20 - 30  \n",
              "2    457.0698       0  0.155856    30 - 40  \n",
              "3    602.2000       0  0.964660    30 - 40  \n",
              "4  16560.5000       0  0.824046    20 - 30  "
            ],
            "text/html": [
              "\n",
              "  <div id=\"df-a13dbfd7-73b2-400b-945a-ef821d1a73d9\">\n",
              "    <div class=\"colab-df-container\">\n",
              "      <div>\n",
              "<style scoped>\n",
              "    .dataframe tbody tr th:only-of-type {\n",
              "        vertical-align: middle;\n",
              "    }\n",
              "\n",
              "    .dataframe tbody tr th {\n",
              "        vertical-align: top;\n",
              "    }\n",
              "\n",
              "    .dataframe thead th {\n",
              "        text-align: right;\n",
              "    }\n",
              "</style>\n",
              "<table border=\"1\" class=\"dataframe\">\n",
              "  <thead>\n",
              "    <tr style=\"text-align: right;\">\n",
              "      <th></th>\n",
              "      <th>Limite</th>\n",
              "      <th>Cuenta_corriente</th>\n",
              "      <th>Escolaridad</th>\n",
              "      <th>Estado_civil</th>\n",
              "      <th>Edad</th>\n",
              "      <th>Factura</th>\n",
              "      <th>Pago</th>\n",
              "      <th>Moroso</th>\n",
              "      <th>Iu</th>\n",
              "      <th>rango_edad</th>\n",
              "    </tr>\n",
              "  </thead>\n",
              "  <tbody>\n",
              "    <tr>\n",
              "      <th>0</th>\n",
              "      <td>6022</td>\n",
              "      <td>Si</td>\n",
              "      <td>2.Universidad</td>\n",
              "      <td>Casado/a</td>\n",
              "      <td>24</td>\n",
              "      <td>934.0122</td>\n",
              "      <td>0.0000</td>\n",
              "      <td>1</td>\n",
              "      <td>0.155100</td>\n",
              "      <td>20 - 30</td>\n",
              "    </tr>\n",
              "    <tr>\n",
              "      <th>1</th>\n",
              "      <td>36132</td>\n",
              "      <td>Si</td>\n",
              "      <td>2.Universidad</td>\n",
              "      <td>Soltero/a</td>\n",
              "      <td>26</td>\n",
              "      <td>519.3975</td>\n",
              "      <td>0.0000</td>\n",
              "      <td>1</td>\n",
              "      <td>0.014375</td>\n",
              "      <td>20 - 30</td>\n",
              "    </tr>\n",
              "    <tr>\n",
              "      <th>2</th>\n",
              "      <td>27099</td>\n",
              "      <td>Si</td>\n",
              "      <td>2.Universidad</td>\n",
              "      <td>Soltero/a</td>\n",
              "      <td>34</td>\n",
              "      <td>4223.5297</td>\n",
              "      <td>457.0698</td>\n",
              "      <td>0</td>\n",
              "      <td>0.155856</td>\n",
              "      <td>30 - 40</td>\n",
              "    </tr>\n",
              "    <tr>\n",
              "      <th>3</th>\n",
              "      <td>15055</td>\n",
              "      <td>Si</td>\n",
              "      <td>2.Universidad</td>\n",
              "      <td>Casado/a</td>\n",
              "      <td>37</td>\n",
              "      <td>14522.9563</td>\n",
              "      <td>602.2000</td>\n",
              "      <td>0</td>\n",
              "      <td>0.964660</td>\n",
              "      <td>30 - 40</td>\n",
              "    </tr>\n",
              "    <tr>\n",
              "      <th>4</th>\n",
              "      <td>150550</td>\n",
              "      <td>No</td>\n",
              "      <td>3.Posgrado</td>\n",
              "      <td>Soltero/a</td>\n",
              "      <td>29</td>\n",
              "      <td>124060.1253</td>\n",
              "      <td>16560.5000</td>\n",
              "      <td>0</td>\n",
              "      <td>0.824046</td>\n",
              "      <td>20 - 30</td>\n",
              "    </tr>\n",
              "  </tbody>\n",
              "</table>\n",
              "</div>\n",
              "      <button class=\"colab-df-convert\" onclick=\"convertToInteractive('df-a13dbfd7-73b2-400b-945a-ef821d1a73d9')\"\n",
              "              title=\"Convert this dataframe to an interactive table.\"\n",
              "              style=\"display:none;\">\n",
              "        \n",
              "  <svg xmlns=\"http://www.w3.org/2000/svg\" height=\"24px\"viewBox=\"0 0 24 24\"\n",
              "       width=\"24px\">\n",
              "    <path d=\"M0 0h24v24H0V0z\" fill=\"none\"/>\n",
              "    <path d=\"M18.56 5.44l.94 2.06.94-2.06 2.06-.94-2.06-.94-.94-2.06-.94 2.06-2.06.94zm-11 1L8.5 8.5l.94-2.06 2.06-.94-2.06-.94L8.5 2.5l-.94 2.06-2.06.94zm10 10l.94 2.06.94-2.06 2.06-.94-2.06-.94-.94-2.06-.94 2.06-2.06.94z\"/><path d=\"M17.41 7.96l-1.37-1.37c-.4-.4-.92-.59-1.43-.59-.52 0-1.04.2-1.43.59L10.3 9.45l-7.72 7.72c-.78.78-.78 2.05 0 2.83L4 21.41c.39.39.9.59 1.41.59.51 0 1.02-.2 1.41-.59l7.78-7.78 2.81-2.81c.8-.78.8-2.07 0-2.86zM5.41 20L4 18.59l7.72-7.72 1.47 1.35L5.41 20z\"/>\n",
              "  </svg>\n",
              "      </button>\n",
              "      \n",
              "  <style>\n",
              "    .colab-df-container {\n",
              "      display:flex;\n",
              "      flex-wrap:wrap;\n",
              "      gap: 12px;\n",
              "    }\n",
              "\n",
              "    .colab-df-convert {\n",
              "      background-color: #E8F0FE;\n",
              "      border: none;\n",
              "      border-radius: 50%;\n",
              "      cursor: pointer;\n",
              "      display: none;\n",
              "      fill: #1967D2;\n",
              "      height: 32px;\n",
              "      padding: 0 0 0 0;\n",
              "      width: 32px;\n",
              "    }\n",
              "\n",
              "    .colab-df-convert:hover {\n",
              "      background-color: #E2EBFA;\n",
              "      box-shadow: 0px 1px 2px rgba(60, 64, 67, 0.3), 0px 1px 3px 1px rgba(60, 64, 67, 0.15);\n",
              "      fill: #174EA6;\n",
              "    }\n",
              "\n",
              "    [theme=dark] .colab-df-convert {\n",
              "      background-color: #3B4455;\n",
              "      fill: #D2E3FC;\n",
              "    }\n",
              "\n",
              "    [theme=dark] .colab-df-convert:hover {\n",
              "      background-color: #434B5C;\n",
              "      box-shadow: 0px 1px 3px 1px rgba(0, 0, 0, 0.15);\n",
              "      filter: drop-shadow(0px 1px 2px rgba(0, 0, 0, 0.3));\n",
              "      fill: #FFFFFF;\n",
              "    }\n",
              "  </style>\n",
              "\n",
              "      <script>\n",
              "        const buttonEl =\n",
              "          document.querySelector('#df-a13dbfd7-73b2-400b-945a-ef821d1a73d9 button.colab-df-convert');\n",
              "        buttonEl.style.display =\n",
              "          google.colab.kernel.accessAllowed ? 'block' : 'none';\n",
              "\n",
              "        async function convertToInteractive(key) {\n",
              "          const element = document.querySelector('#df-a13dbfd7-73b2-400b-945a-ef821d1a73d9');\n",
              "          const dataTable =\n",
              "            await google.colab.kernel.invokeFunction('convertToInteractive',\n",
              "                                                     [key], {});\n",
              "          if (!dataTable) return;\n",
              "\n",
              "          const docLinkHtml = 'Like what you see? Visit the ' +\n",
              "            '<a target=\"_blank\" href=https://colab.research.google.com/notebooks/data_table.ipynb>data table notebook</a>'\n",
              "            + ' to learn more about interactive tables.';\n",
              "          element.innerHTML = '';\n",
              "          dataTable['output_type'] = 'display_data';\n",
              "          await google.colab.output.renderOutput(dataTable, element);\n",
              "          const docLink = document.createElement('div');\n",
              "          docLink.innerHTML = docLinkHtml;\n",
              "          element.appendChild(docLink);\n",
              "        }\n",
              "      </script>\n",
              "    </div>\n",
              "  </div>\n",
              "  "
            ]
          },
          "metadata": {},
          "execution_count": 193
        }
      ]
    },
    {
      "cell_type": "code",
      "source": [
        "sns.boxplot(x = 'rango_edad', y = 'Limite', data = tarjetas);"
      ],
      "metadata": {
        "colab": {
          "base_uri": "https://localhost:8080/",
          "height": 280
        },
        "id": "yEcOIPVjHb1M",
        "outputId": "139ea1dd-ad20-4d7c-9132-778f99e65a5e"
      },
      "execution_count": 196,
      "outputs": [
        {
          "output_type": "display_data",
          "data": {
            "text/plain": [
              "<Figure size 432x288 with 1 Axes>"
            ],
            "image/png": "[encoded data removed]"
          },
          "metadata": {}
        }
      ]
    },
    {
      "cell_type": "code",
      "source": [],
      "metadata": {
        "id": "9qvIiTt1IDDL"
      },
      "execution_count": null,
      "outputs": []
    }
  ]
}